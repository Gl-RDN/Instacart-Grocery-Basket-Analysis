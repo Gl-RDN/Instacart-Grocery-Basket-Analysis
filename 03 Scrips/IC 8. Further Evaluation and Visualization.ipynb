{
 "cells": [
  {
   "cell_type": "markdown",
   "id": "284123dc-63fc-4f4d-b83a-7c6b3ea0e21c",
   "metadata": {},
   "source": [
    "## This script contains the following points:\n",
    "\n",
    "### Importing Data & Libraries\n",
    "### PART 1\n",
    "###  Addressing any PII data in the data before continuing the analysis\n",
    "###  Create a regional segmentation of the data and compare the regions in their spendings\n",
    "###  Create an exclusion flag for low-activity customers\n",
    "###  Create a customer profile (order day, order hour, age, income, certain goods and number of dependents)\n",
    "###  Create visualization to show the distribution of profiles.\n",
    "###  Aggregate the max, mean, and min variables on a customer-profile level for usage frequency and expenditure.\n",
    "###  Compare customer profiles with regions and departments.\n",
    "###  Produce suitable charts to illustrate your results and export them in your project folder."
   ]
  },
  {
   "cell_type": "code",
   "execution_count": 1,
   "id": "6f613dfe-ecbd-4f74-950b-a1805ddca130",
   "metadata": {},
   "outputs": [],
   "source": [
    "import pandas as pd\n",
    "import numpy as np\n",
    "import os\n",
    "import matplotlib.pyplot as plt\n",
    "import seaborn as sns\n",
    "import scipy"
   ]
  },
  {
   "cell_type": "code",
   "execution_count": 2,
   "id": "69b034bc-2c93-4675-a2c3-2f7818d242c8",
   "metadata": {},
   "outputs": [],
   "source": [
    "# assigning path\n",
    "path=r'C:\\Users\\Gal-E\\CF Data Analysis\\Achievement 4\\03-2024 Instacart Basket Analysis'\n",
    "\n",
    "# import \"all_merged.pkl\" dataframe from \"Prepared Data\" folder\n",
    "df_complete=pd.read_pickle(os.path.join(path, '02 Data', 'Prepared Data', 'all_merged.pkl'))"
   ]
  },
  {
   "cell_type": "code",
   "execution_count": 3,
   "id": "12a29cc5-c9ea-4e0e-96a0-2a337ec91fdc",
   "metadata": {},
   "outputs": [],
   "source": [
    "# import \"departments_wrangled.csv\" dataframe from \"Prepared Data\" folder\n",
    "df_dep=pd.read_csv(os.path.join(path, '02 Data', 'Prepared Data', 'departments_wrangled.csv'))"
   ]
  },
  {
   "cell_type": "code",
   "execution_count": 4,
   "id": "1ae0a444-35c6-481e-a881-955d7be4bddf",
   "metadata": {},
   "outputs": [
    {
     "data": {
      "text/html": [
       "<div>\n",
       "<style scoped>\n",
       "    .dataframe tbody tr th:only-of-type {\n",
       "        vertical-align: middle;\n",
       "    }\n",
       "\n",
       "    .dataframe tbody tr th {\n",
       "        vertical-align: top;\n",
       "    }\n",
       "\n",
       "    .dataframe thead th {\n",
       "        text-align: right;\n",
       "    }\n",
       "</style>\n",
       "<table border=\"1\" class=\"dataframe\">\n",
       "  <thead>\n",
       "    <tr style=\"text-align: right;\">\n",
       "      <th></th>\n",
       "      <th>product_id</th>\n",
       "      <th>product_name</th>\n",
       "      <th>aisle_id</th>\n",
       "      <th>department_id</th>\n",
       "      <th>prices</th>\n",
       "      <th>order_id</th>\n",
       "      <th>user_id</th>\n",
       "      <th>order_number</th>\n",
       "      <th>orders_day_of_week</th>\n",
       "      <th>order_hour_of_day</th>\n",
       "      <th>...</th>\n",
       "      <th>order_frequency_flag</th>\n",
       "      <th>first_name</th>\n",
       "      <th>last_name</th>\n",
       "      <th>gender</th>\n",
       "      <th>state</th>\n",
       "      <th>age</th>\n",
       "      <th>date_joined</th>\n",
       "      <th>number_of_dependants</th>\n",
       "      <th>family_status</th>\n",
       "      <th>income</th>\n",
       "    </tr>\n",
       "  </thead>\n",
       "  <tbody>\n",
       "    <tr>\n",
       "      <th>0</th>\n",
       "      <td>1</td>\n",
       "      <td>Chocolate Sandwich Cookies</td>\n",
       "      <td>61</td>\n",
       "      <td>19</td>\n",
       "      <td>5.8</td>\n",
       "      <td>3139998</td>\n",
       "      <td>138</td>\n",
       "      <td>28</td>\n",
       "      <td>6</td>\n",
       "      <td>11</td>\n",
       "      <td>...</td>\n",
       "      <td>Frequent customer</td>\n",
       "      <td>Charles</td>\n",
       "      <td>Cox</td>\n",
       "      <td>Male</td>\n",
       "      <td>Minnesota</td>\n",
       "      <td>81</td>\n",
       "      <td>2019-08-01</td>\n",
       "      <td>1</td>\n",
       "      <td>married</td>\n",
       "      <td>49620</td>\n",
       "    </tr>\n",
       "    <tr>\n",
       "      <th>1</th>\n",
       "      <td>1</td>\n",
       "      <td>Chocolate Sandwich Cookies</td>\n",
       "      <td>61</td>\n",
       "      <td>19</td>\n",
       "      <td>5.8</td>\n",
       "      <td>1977647</td>\n",
       "      <td>138</td>\n",
       "      <td>30</td>\n",
       "      <td>6</td>\n",
       "      <td>17</td>\n",
       "      <td>...</td>\n",
       "      <td>Frequent customer</td>\n",
       "      <td>Charles</td>\n",
       "      <td>Cox</td>\n",
       "      <td>Male</td>\n",
       "      <td>Minnesota</td>\n",
       "      <td>81</td>\n",
       "      <td>2019-08-01</td>\n",
       "      <td>1</td>\n",
       "      <td>married</td>\n",
       "      <td>49620</td>\n",
       "    </tr>\n",
       "    <tr>\n",
       "      <th>2</th>\n",
       "      <td>907</td>\n",
       "      <td>Premium Sliced Bacon</td>\n",
       "      <td>106</td>\n",
       "      <td>12</td>\n",
       "      <td>20.0</td>\n",
       "      <td>3160996</td>\n",
       "      <td>138</td>\n",
       "      <td>1</td>\n",
       "      <td>5</td>\n",
       "      <td>13</td>\n",
       "      <td>...</td>\n",
       "      <td>Frequent customer</td>\n",
       "      <td>Charles</td>\n",
       "      <td>Cox</td>\n",
       "      <td>Male</td>\n",
       "      <td>Minnesota</td>\n",
       "      <td>81</td>\n",
       "      <td>2019-08-01</td>\n",
       "      <td>1</td>\n",
       "      <td>married</td>\n",
       "      <td>49620</td>\n",
       "    </tr>\n",
       "    <tr>\n",
       "      <th>3</th>\n",
       "      <td>907</td>\n",
       "      <td>Premium Sliced Bacon</td>\n",
       "      <td>106</td>\n",
       "      <td>12</td>\n",
       "      <td>20.0</td>\n",
       "      <td>2254091</td>\n",
       "      <td>138</td>\n",
       "      <td>10</td>\n",
       "      <td>5</td>\n",
       "      <td>14</td>\n",
       "      <td>...</td>\n",
       "      <td>Frequent customer</td>\n",
       "      <td>Charles</td>\n",
       "      <td>Cox</td>\n",
       "      <td>Male</td>\n",
       "      <td>Minnesota</td>\n",
       "      <td>81</td>\n",
       "      <td>2019-08-01</td>\n",
       "      <td>1</td>\n",
       "      <td>married</td>\n",
       "      <td>49620</td>\n",
       "    </tr>\n",
       "    <tr>\n",
       "      <th>4</th>\n",
       "      <td>1000</td>\n",
       "      <td>Apricots</td>\n",
       "      <td>18</td>\n",
       "      <td>10</td>\n",
       "      <td>12.9</td>\n",
       "      <td>505689</td>\n",
       "      <td>138</td>\n",
       "      <td>9</td>\n",
       "      <td>6</td>\n",
       "      <td>12</td>\n",
       "      <td>...</td>\n",
       "      <td>Frequent customer</td>\n",
       "      <td>Charles</td>\n",
       "      <td>Cox</td>\n",
       "      <td>Male</td>\n",
       "      <td>Minnesota</td>\n",
       "      <td>81</td>\n",
       "      <td>2019-08-01</td>\n",
       "      <td>1</td>\n",
       "      <td>married</td>\n",
       "      <td>49620</td>\n",
       "    </tr>\n",
       "  </tbody>\n",
       "</table>\n",
       "<p>5 rows × 32 columns</p>\n",
       "</div>"
      ],
      "text/plain": [
       "   product_id                product_name  aisle_id  department_id  prices  \\\n",
       "0           1  Chocolate Sandwich Cookies        61             19     5.8   \n",
       "1           1  Chocolate Sandwich Cookies        61             19     5.8   \n",
       "2         907        Premium Sliced Bacon       106             12    20.0   \n",
       "3         907        Premium Sliced Bacon       106             12    20.0   \n",
       "4        1000                    Apricots        18             10    12.9   \n",
       "\n",
       "   order_id  user_id  order_number  orders_day_of_week  order_hour_of_day  \\\n",
       "0   3139998      138            28                   6                 11   \n",
       "1   1977647      138            30                   6                 17   \n",
       "2   3160996      138             1                   5                 13   \n",
       "3   2254091      138            10                   5                 14   \n",
       "4    505689      138             9                   6                 12   \n",
       "\n",
       "   ...  order_frequency_flag  first_name  last_name gender      state age  \\\n",
       "0  ...     Frequent customer     Charles        Cox   Male  Minnesota  81   \n",
       "1  ...     Frequent customer     Charles        Cox   Male  Minnesota  81   \n",
       "2  ...     Frequent customer     Charles        Cox   Male  Minnesota  81   \n",
       "3  ...     Frequent customer     Charles        Cox   Male  Minnesota  81   \n",
       "4  ...     Frequent customer     Charles        Cox   Male  Minnesota  81   \n",
       "\n",
       "  date_joined  number_of_dependants family_status  income  \n",
       "0  2019-08-01                     1       married   49620  \n",
       "1  2019-08-01                     1       married   49620  \n",
       "2  2019-08-01                     1       married   49620  \n",
       "3  2019-08-01                     1       married   49620  \n",
       "4  2019-08-01                     1       married   49620  \n",
       "\n",
       "[5 rows x 32 columns]"
      ]
     },
     "execution_count": 4,
     "metadata": {},
     "output_type": "execute_result"
    }
   ],
   "source": [
    "df_complete.head()"
   ]
  },
  {
   "cell_type": "code",
   "execution_count": 5,
   "id": "54ac311c-4b3b-4608-8bd7-bbbdc31cb62e",
   "metadata": {},
   "outputs": [
    {
     "data": {
      "text/html": [
       "<div>\n",
       "<style scoped>\n",
       "    .dataframe tbody tr th:only-of-type {\n",
       "        vertical-align: middle;\n",
       "    }\n",
       "\n",
       "    .dataframe tbody tr th {\n",
       "        vertical-align: top;\n",
       "    }\n",
       "\n",
       "    .dataframe thead th {\n",
       "        text-align: right;\n",
       "    }\n",
       "</style>\n",
       "<table border=\"1\" class=\"dataframe\">\n",
       "  <thead>\n",
       "    <tr style=\"text-align: right;\">\n",
       "      <th></th>\n",
       "      <th>Unnamed: 0</th>\n",
       "      <th>department</th>\n",
       "    </tr>\n",
       "  </thead>\n",
       "  <tbody>\n",
       "    <tr>\n",
       "      <th>0</th>\n",
       "      <td>1</td>\n",
       "      <td>frozen</td>\n",
       "    </tr>\n",
       "    <tr>\n",
       "      <th>1</th>\n",
       "      <td>2</td>\n",
       "      <td>other</td>\n",
       "    </tr>\n",
       "    <tr>\n",
       "      <th>2</th>\n",
       "      <td>3</td>\n",
       "      <td>bakery</td>\n",
       "    </tr>\n",
       "    <tr>\n",
       "      <th>3</th>\n",
       "      <td>4</td>\n",
       "      <td>produce</td>\n",
       "    </tr>\n",
       "    <tr>\n",
       "      <th>4</th>\n",
       "      <td>5</td>\n",
       "      <td>alcohol</td>\n",
       "    </tr>\n",
       "  </tbody>\n",
       "</table>\n",
       "</div>"
      ],
      "text/plain": [
       "   Unnamed: 0 department\n",
       "0           1     frozen\n",
       "1           2      other\n",
       "2           3     bakery\n",
       "3           4    produce\n",
       "4           5    alcohol"
      ]
     },
     "execution_count": 5,
     "metadata": {},
     "output_type": "execute_result"
    }
   ],
   "source": [
    "df_dep.head()"
   ]
  },
  {
   "cell_type": "code",
   "execution_count": 6,
   "id": "0c7f917d-3999-4f6b-b336-8f8a45af88e3",
   "metadata": {},
   "outputs": [],
   "source": [
    "df_dep = df_dep.drop(columns = ['Unnamed: 0'])"
   ]
  },
  {
   "cell_type": "markdown",
   "id": "17ea7558-b3d0-46cb-83e1-f4cd6d93c69c",
   "metadata": {},
   "source": [
    "##  Addressing any PII data in the data before continuing the analysis"
   ]
  },
  {
   "cell_type": "code",
   "execution_count": 7,
   "id": "b64633d8-e2ca-4609-b916-da8bf3832c0d",
   "metadata": {},
   "outputs": [],
   "source": [
    "# dropping tow column that containing personal information 'first_name' and 'last_name'\n",
    "df_complete = df_complete.drop(columns = ['first_name', 'last_name', 'busiest_day'])"
   ]
  },
  {
   "cell_type": "code",
   "execution_count": 8,
   "id": "ad5002c1-66f3-4cf8-959d-c369d689fa8a",
   "metadata": {},
   "outputs": [
    {
     "name": "stdout",
     "output_type": "stream",
     "text": [
      "<class 'pandas.core.frame.DataFrame'>\n",
      "RangeIndex: 32404859 entries, 0 to 32404858\n",
      "Data columns (total 29 columns):\n",
      " #   Column                  Dtype         \n",
      "---  ------                  -----         \n",
      " 0   product_id              int64         \n",
      " 1   product_name            object        \n",
      " 2   aisle_id                int64         \n",
      " 3   department_id           int64         \n",
      " 4   prices                  float64       \n",
      " 5   order_id                int64         \n",
      " 6   user_id                 int64         \n",
      " 7   order_number            int64         \n",
      " 8   orders_day_of_week      int64         \n",
      " 9   order_hour_of_day       int64         \n",
      " 10  days_since_prior_order  float64       \n",
      " 11  add_to_cart_order       int64         \n",
      " 12  reordered               int64         \n",
      " 13  price_label             object        \n",
      " 14  busiest_days            object        \n",
      " 15  busiest_period_of_day   object        \n",
      " 16  max_order               int64         \n",
      " 17  loyalty_flag            object        \n",
      " 18  average_spend           float64       \n",
      " 19  spender_flag            object        \n",
      " 20  customer_frequency      float64       \n",
      " 21  order_frequency_flag    object        \n",
      " 22  gender                  category      \n",
      " 23  state                   object        \n",
      " 24  age                     int64         \n",
      " 25  date_joined             datetime64[ns]\n",
      " 26  number_of_dependants    int64         \n",
      " 27  family_status           category      \n",
      " 28  income                  int64         \n",
      "dtypes: category(2), datetime64[ns](1), float64(4), int64(14), object(8)\n",
      "memory usage: 6.6+ GB\n"
     ]
    }
   ],
   "source": [
    "df_complete.info()"
   ]
  },
  {
   "cell_type": "markdown",
   "id": "ccb1f19b-804f-4673-9aaa-5692ff9cd554",
   "metadata": {},
   "source": [
    "##  Create a regional segmentation of the data and compare the regions in their spendings"
   ]
  },
  {
   "cell_type": "code",
   "execution_count": 9,
   "id": "5b91aa54-39b8-47b4-b83f-8839fa5b8f00",
   "metadata": {},
   "outputs": [],
   "source": [
    "# creating lists of states for four geographical regions\n",
    "Northeast_states = ['Maine', 'New Hampshire', 'Vermont', 'Massachusetts', 'Rhode Island', 'Connecticut', 'New York', 'Pennsylvania', 'New Jersey']"
   ]
  },
  {
   "cell_type": "code",
   "execution_count": 10,
   "id": "16b91544-9c86-4eb5-9375-12f993f622f4",
   "metadata": {},
   "outputs": [],
   "source": [
    "Midwest_states = ['Wisconsin', 'Michigan', 'Illinois', 'Indiana', 'Ohio', 'North Dakota', 'South Dakota', 'Nebraska', 'Kansas', 'Minnesota', 'Iowa', 'Missouri']"
   ]
  },
  {
   "cell_type": "code",
   "execution_count": 11,
   "id": "d79ec512-16ad-4f40-8933-a5fc3cd1ba56",
   "metadata": {},
   "outputs": [],
   "source": [
    "South_states = ['Delaware', 'Maryland', 'District of Columbia', 'Virginia', 'West Virginia', 'North Carolina', 'South Carolina', 'Georgia', 'Florida', 'Kentucky', 'Tennessee', 'Mississippi', 'Alabama', 'Oklahoma', 'Texas', 'Arkansas', 'Louisiana']"
   ]
  },
  {
   "cell_type": "code",
   "execution_count": 12,
   "id": "f27e86b0-07e5-4462-ba09-255aa3a45d72",
   "metadata": {},
   "outputs": [],
   "source": [
    "West_states = ['Idaho', 'Montana', 'Wyoming', 'Nevada', 'Utah', 'Colorado', 'Arizona', 'New Mexico', 'Alaska', 'Washington', 'Oregon', 'California', 'Hawaii']"
   ]
  },
  {
   "cell_type": "code",
   "execution_count": 13,
   "id": "5d1ec8a4-606c-4946-9c24-3cb046285142",
   "metadata": {},
   "outputs": [],
   "source": [
    "# set the region for each state in the main dataframe\n",
    "df_complete.loc[df_complete['state'].isin(Northeast_states), 'region'] = 'Northeast'"
   ]
  },
  {
   "cell_type": "code",
   "execution_count": 14,
   "id": "74e35a85-063c-4cd4-8182-1fc6a6ef616a",
   "metadata": {},
   "outputs": [],
   "source": [
    "df_complete.loc[df_complete['state'].isin(Midwest_states), 'region'] = 'Midwest_states'"
   ]
  },
  {
   "cell_type": "code",
   "execution_count": 15,
   "id": "8eeea315-a006-4956-b7ce-6b0feae9feab",
   "metadata": {},
   "outputs": [],
   "source": [
    "df_complete.loc[df_complete['state'].isin(South_states), 'region'] = 'South_states'"
   ]
  },
  {
   "cell_type": "code",
   "execution_count": 16,
   "id": "56943173-bd40-41f3-8041-2fdc66810f6c",
   "metadata": {},
   "outputs": [],
   "source": [
    "df_complete.loc[df_complete['state'].isin(West_states), 'region'] = 'West_states'"
   ]
  },
  {
   "cell_type": "code",
   "execution_count": 17,
   "id": "e6b099f1-071f-4fbd-97fd-ee45a2a730b1",
   "metadata": {},
   "outputs": [
    {
     "data": {
      "text/plain": [
       "region\n",
       "South_states      10791885\n",
       "West_states        8292913\n",
       "Midwest_states     7597325\n",
       "Northeast          5722736\n",
       "Name: count, dtype: int64"
      ]
     },
     "execution_count": 17,
     "metadata": {},
     "output_type": "execute_result"
    }
   ],
   "source": [
    "# checking the frequency of 'region'\n",
    "df_complete['region'].value_counts(dropna = False)"
   ]
  },
  {
   "cell_type": "code",
   "execution_count": 197,
   "id": "38dbd9eb-2c7f-4cb6-977d-bf0550e2c19b",
   "metadata": {},
   "outputs": [
    {
     "data": {
      "text/html": [
       "<div>\n",
       "<style scoped>\n",
       "    .dataframe tbody tr th:only-of-type {\n",
       "        vertical-align: middle;\n",
       "    }\n",
       "\n",
       "    .dataframe tbody tr th {\n",
       "        vertical-align: top;\n",
       "    }\n",
       "\n",
       "    .dataframe thead th {\n",
       "        text-align: right;\n",
       "    }\n",
       "</style>\n",
       "<table border=\"1\" class=\"dataframe\">\n",
       "  <thead>\n",
       "    <tr style=\"text-align: right;\">\n",
       "      <th></th>\n",
       "      <th>state</th>\n",
       "      <th>region</th>\n",
       "    </tr>\n",
       "  </thead>\n",
       "  <tbody>\n",
       "    <tr>\n",
       "      <th>0</th>\n",
       "      <td>Minnesota</td>\n",
       "      <td>Midwest_states</td>\n",
       "    </tr>\n",
       "    <tr>\n",
       "      <th>1</th>\n",
       "      <td>Minnesota</td>\n",
       "      <td>Midwest_states</td>\n",
       "    </tr>\n",
       "    <tr>\n",
       "      <th>2</th>\n",
       "      <td>Minnesota</td>\n",
       "      <td>Midwest_states</td>\n",
       "    </tr>\n",
       "    <tr>\n",
       "      <th>3</th>\n",
       "      <td>Minnesota</td>\n",
       "      <td>Midwest_states</td>\n",
       "    </tr>\n",
       "    <tr>\n",
       "      <th>4</th>\n",
       "      <td>Minnesota</td>\n",
       "      <td>Midwest_states</td>\n",
       "    </tr>\n",
       "  </tbody>\n",
       "</table>\n",
       "</div>"
      ],
      "text/plain": [
       "       state          region\n",
       "0  Minnesota  Midwest_states\n",
       "1  Minnesota  Midwest_states\n",
       "2  Minnesota  Midwest_states\n",
       "3  Minnesota  Midwest_states\n",
       "4  Minnesota  Midwest_states"
      ]
     },
     "execution_count": 197,
     "metadata": {},
     "output_type": "execute_result"
    }
   ],
   "source": [
    "df_complete[['state', 'region']].head()"
   ]
  },
  {
   "cell_type": "code",
   "execution_count": 19,
   "id": "89cac20f-e8e1-4375-a00a-141d3e41a049",
   "metadata": {},
   "outputs": [
    {
     "data": {
      "text/html": [
       "<div>\n",
       "<style scoped>\n",
       "    .dataframe tbody tr th:only-of-type {\n",
       "        vertical-align: middle;\n",
       "    }\n",
       "\n",
       "    .dataframe tbody tr th {\n",
       "        vertical-align: top;\n",
       "    }\n",
       "\n",
       "    .dataframe thead th {\n",
       "        text-align: right;\n",
       "    }\n",
       "</style>\n",
       "<table border=\"1\" class=\"dataframe\">\n",
       "  <thead>\n",
       "    <tr style=\"text-align: right;\">\n",
       "      <th></th>\n",
       "      <th>user_id</th>\n",
       "    </tr>\n",
       "    <tr>\n",
       "      <th>region</th>\n",
       "      <th></th>\n",
       "    </tr>\n",
       "  </thead>\n",
       "  <tbody>\n",
       "    <tr>\n",
       "      <th>South_states</th>\n",
       "      <td>68737</td>\n",
       "    </tr>\n",
       "    <tr>\n",
       "      <th>West_states</th>\n",
       "      <td>52565</td>\n",
       "    </tr>\n",
       "    <tr>\n",
       "      <th>Midwest_states</th>\n",
       "      <td>48519</td>\n",
       "    </tr>\n",
       "    <tr>\n",
       "      <th>Northeast</th>\n",
       "      <td>36388</td>\n",
       "    </tr>\n",
       "  </tbody>\n",
       "</table>\n",
       "</div>"
      ],
      "text/plain": [
       "                user_id\n",
       "region                 \n",
       "South_states      68737\n",
       "West_states       52565\n",
       "Midwest_states    48519\n",
       "Northeast         36388"
      ]
     },
     "execution_count": 19,
     "metadata": {},
     "output_type": "execute_result"
    }
   ],
   "source": [
    "# total customer numbers within each region\n",
    "\n",
    "df_complete.groupby('region').agg({'user_id': 'nunique'}).sort_values(by='user_id', ascending=False)"
   ]
  },
  {
   "cell_type": "code",
   "execution_count": 20,
   "id": "d4b856c2-39e0-432d-81a1-115735f963d1",
   "metadata": {},
   "outputs": [
    {
     "data": {
      "text/html": [
       "<div>\n",
       "<style scoped>\n",
       "    .dataframe tbody tr th:only-of-type {\n",
       "        vertical-align: middle;\n",
       "    }\n",
       "\n",
       "    .dataframe tbody tr th {\n",
       "        vertical-align: top;\n",
       "    }\n",
       "\n",
       "    .dataframe thead th {\n",
       "        text-align: right;\n",
       "    }\n",
       "</style>\n",
       "<table border=\"1\" class=\"dataframe\">\n",
       "  <thead>\n",
       "    <tr style=\"text-align: right;\">\n",
       "      <th>spender_flag</th>\n",
       "      <th>High_spender</th>\n",
       "      <th>Low_spender</th>\n",
       "    </tr>\n",
       "    <tr>\n",
       "      <th>region</th>\n",
       "      <th></th>\n",
       "      <th></th>\n",
       "    </tr>\n",
       "  </thead>\n",
       "  <tbody>\n",
       "    <tr>\n",
       "      <th>Midwest_states</th>\n",
       "      <td>801</td>\n",
       "      <td>47718</td>\n",
       "    </tr>\n",
       "    <tr>\n",
       "      <th>Northeast</th>\n",
       "      <td>545</td>\n",
       "      <td>35843</td>\n",
       "    </tr>\n",
       "    <tr>\n",
       "      <th>South_states</th>\n",
       "      <td>1141</td>\n",
       "      <td>67596</td>\n",
       "    </tr>\n",
       "    <tr>\n",
       "      <th>West_states</th>\n",
       "      <td>901</td>\n",
       "      <td>51664</td>\n",
       "    </tr>\n",
       "  </tbody>\n",
       "</table>\n",
       "</div>"
      ],
      "text/plain": [
       "spender_flag    High_spender  Low_spender\n",
       "region                                   \n",
       "Midwest_states           801        47718\n",
       "Northeast                545        35843\n",
       "South_states            1141        67596\n",
       "West_states              901        51664"
      ]
     },
     "execution_count": 20,
     "metadata": {},
     "output_type": "execute_result"
    }
   ],
   "source": [
    "# spending_flag customers by user_id in each region\n",
    "\n",
    "df_complete.groupby(['region', 'spender_flag'])['user_id'].nunique().unstack(fill_value=0)"
   ]
  },
  {
   "cell_type": "code",
   "execution_count": 21,
   "id": "c7f9d35e-f2b9-430a-8d16-075fd68f25f7",
   "metadata": {},
   "outputs": [
    {
     "data": {
      "text/plain": [
       "region\n",
       "South_states      1071562\n",
       "West_states        821686\n",
       "Midwest_states     754275\n",
       "Northeast          567162\n",
       "Name: order_id, dtype: int64"
      ]
     },
     "execution_count": 21,
     "metadata": {},
     "output_type": "execute_result"
    }
   ],
   "source": [
    "# total number of orders by region\n",
    "\n",
    "df_complete.groupby('region')['order_id'].nunique().sort_values(ascending=False)"
   ]
  },
  {
   "cell_type": "code",
   "execution_count": 22,
   "id": "42a1c6d3-dab3-4383-af2c-ca48a1dbbd17",
   "metadata": {},
   "outputs": [
    {
     "data": {
      "text/html": [
       "<div>\n",
       "<style scoped>\n",
       "    .dataframe tbody tr th:only-of-type {\n",
       "        vertical-align: middle;\n",
       "    }\n",
       "\n",
       "    .dataframe tbody tr th {\n",
       "        vertical-align: top;\n",
       "    }\n",
       "\n",
       "    .dataframe thead th {\n",
       "        text-align: right;\n",
       "    }\n",
       "</style>\n",
       "<table border=\"1\" class=\"dataframe\">\n",
       "  <thead>\n",
       "    <tr style=\"text-align: right;\">\n",
       "      <th>orders_day_of_week</th>\n",
       "      <th>0</th>\n",
       "      <th>1</th>\n",
       "      <th>2</th>\n",
       "      <th>3</th>\n",
       "      <th>4</th>\n",
       "      <th>5</th>\n",
       "      <th>6</th>\n",
       "    </tr>\n",
       "    <tr>\n",
       "      <th>region</th>\n",
       "      <th></th>\n",
       "      <th></th>\n",
       "      <th></th>\n",
       "      <th></th>\n",
       "      <th></th>\n",
       "      <th></th>\n",
       "      <th></th>\n",
       "    </tr>\n",
       "  </thead>\n",
       "  <tbody>\n",
       "    <tr>\n",
       "      <th>Midwest_states</th>\n",
       "      <td>131163</td>\n",
       "      <td>130433</td>\n",
       "      <td>103910</td>\n",
       "      <td>96657</td>\n",
       "      <td>93707</td>\n",
       "      <td>100014</td>\n",
       "      <td>98391</td>\n",
       "    </tr>\n",
       "    <tr>\n",
       "      <th>Northeast</th>\n",
       "      <td>98424</td>\n",
       "      <td>98515</td>\n",
       "      <td>77975</td>\n",
       "      <td>73042</td>\n",
       "      <td>70894</td>\n",
       "      <td>75147</td>\n",
       "      <td>73165</td>\n",
       "    </tr>\n",
       "    <tr>\n",
       "      <th>South_states</th>\n",
       "      <td>185044</td>\n",
       "      <td>186085</td>\n",
       "      <td>147394</td>\n",
       "      <td>137507</td>\n",
       "      <td>133877</td>\n",
       "      <td>141844</td>\n",
       "      <td>139811</td>\n",
       "    </tr>\n",
       "    <tr>\n",
       "      <th>West_states</th>\n",
       "      <td>143114</td>\n",
       "      <td>141646</td>\n",
       "      <td>112650</td>\n",
       "      <td>105165</td>\n",
       "      <td>102712</td>\n",
       "      <td>108938</td>\n",
       "      <td>107461</td>\n",
       "    </tr>\n",
       "  </tbody>\n",
       "</table>\n",
       "</div>"
      ],
      "text/plain": [
       "orders_day_of_week       0       1       2       3       4       5       6\n",
       "region                                                                    \n",
       "Midwest_states      131163  130433  103910   96657   93707  100014   98391\n",
       "Northeast            98424   98515   77975   73042   70894   75147   73165\n",
       "South_states        185044  186085  147394  137507  133877  141844  139811\n",
       "West_states         143114  141646  112650  105165  102712  108938  107461"
      ]
     },
     "execution_count": 22,
     "metadata": {},
     "output_type": "execute_result"
    }
   ],
   "source": [
    "# compare a weekdays for shopping\n",
    "\n",
    "df_complete.groupby(['region', 'orders_day_of_week'])['order_id'].nunique().unstack(fill_value=0)"
   ]
  },
  {
   "cell_type": "markdown",
   "id": "4b850ef2-647d-4b5d-918c-c63b6fe57d6f",
   "metadata": {},
   "source": [
    "#### from the results we can clearly determine that due to higher number of population the South has the most users and has most number of orders"
   ]
  },
  {
   "cell_type": "code",
   "execution_count": 23,
   "id": "124c3d55-a66e-417d-af6c-dbd7afc1b58f",
   "metadata": {},
   "outputs": [],
   "source": [
    "# Define the mapping of integers to day names\n",
    "day_mapping = {0: 'Saturday', 1: 'Sunday', 2: 'Monday', 3: 'Tuesday', 4: 'Wednesday', 5: 'Thursday', 6: 'Friday'}\n",
    "\n",
    "# Convert to categorical\n",
    "df_complete['orders_day_of_week'] = df_complete['orders_day_of_week'].map(day_mapping).astype('category')"
   ]
  },
  {
   "cell_type": "code",
   "execution_count": 24,
   "id": "e6b589c1-516b-47a4-9ee8-e6b795a8dc72",
   "metadata": {},
   "outputs": [
    {
     "data": {
      "text/plain": [
       "orders_day_of_week\n",
       "Saturday     6204182\n",
       "Sunday       5660230\n",
       "Friday       4496490\n",
       "Monday       4213830\n",
       "Thursday     4205791\n",
       "Tuesday      3840534\n",
       "Wednesday    3783802\n",
       "Name: count, dtype: int64"
      ]
     },
     "execution_count": 24,
     "metadata": {},
     "output_type": "execute_result"
    }
   ],
   "source": [
    "df_complete['orders_day_of_week'].value_counts(dropna = False)"
   ]
  },
  {
   "cell_type": "markdown",
   "id": "cbaced9c-3090-4d89-a83a-ff55370b1628",
   "metadata": {},
   "source": [
    "##  Create an exclusion flag for low-activity customers (customers with less than 5 orders)"
   ]
  },
  {
   "cell_type": "code",
   "execution_count": 25,
   "id": "643f0602-e762-4dba-b214-7dacce587a0a",
   "metadata": {},
   "outputs": [],
   "source": [
    "# create low-activity flag\n",
    "\n",
    "df_complete.loc[df_complete['order_number'] < 5, 'low_activity'] = 'yes'"
   ]
  },
  {
   "cell_type": "code",
   "execution_count": 26,
   "id": "d926055d-4c14-45d7-811b-5a7160158c25",
   "metadata": {},
   "outputs": [],
   "source": [
    "df_complete.loc[df_complete['order_number'] >= 5, 'low_activity'] = 'no'"
   ]
  },
  {
   "cell_type": "code",
   "execution_count": 27,
   "id": "bd7b00af-ed6a-46c1-b92c-d2e70614e4f1",
   "metadata": {},
   "outputs": [],
   "source": [
    "# creating table excluding low activity customers\n",
    "low_excluded = df_complete[df_complete['low_activity'] == 'no']"
   ]
  },
  {
   "cell_type": "code",
   "execution_count": 28,
   "id": "ed74bc36-74bb-4ef0-ba9b-ed7a99c6fb7e",
   "metadata": {},
   "outputs": [
    {
     "data": {
      "text/plain": [
       "(32404859, 31)"
      ]
     },
     "execution_count": 28,
     "metadata": {},
     "output_type": "execute_result"
    }
   ],
   "source": [
    "# compare shapes of original and new table\n",
    "df_complete.shape"
   ]
  },
  {
   "cell_type": "code",
   "execution_count": 29,
   "id": "76f8069e-7347-4d22-8095-95c9507ecf31",
   "metadata": {},
   "outputs": [
    {
     "data": {
      "text/plain": [
       "(24414877, 31)"
      ]
     },
     "execution_count": 29,
     "metadata": {},
     "output_type": "execute_result"
    }
   ],
   "source": [
    "low_excluded.shape"
   ]
  },
  {
   "cell_type": "markdown",
   "id": "85c43836-e719-4320-a95b-0c60ae0c5013",
   "metadata": {},
   "source": [
    "##  Create a customer profile (order hour, order day, age, income, certain goods and number of dependents)"
   ]
  },
  {
   "cell_type": "code",
   "execution_count": 32,
   "id": "253cd235-70a8-4e5f-a60b-6fd38c23ab3a",
   "metadata": {},
   "outputs": [],
   "source": [
    "# merging 'low_excluded' and 'df_dep' as 'df_comp'\n",
    "df_comp = low_excluded.merge(df_dep, left_on='department_id', right_index=True)"
   ]
  },
  {
   "cell_type": "code",
   "execution_count": 33,
   "id": "1b679283-ee13-45f1-abaa-10eddd8ab8d1",
   "metadata": {},
   "outputs": [
    {
     "data": {
      "text/plain": [
       "department\n",
       "alcohol            7227091\n",
       "household          4120488\n",
       "deli               2187121\n",
       "pets               2036447\n",
       "other              1627614\n",
       "breakfast          1385375\n",
       "produce             883330\n",
       "dairy eggs          787790\n",
       "missing             783011\n",
       "bulk                633725\n",
       "babies              539349\n",
       "canned goods        524945\n",
       "pantry              523890\n",
       "snacks              335947\n",
       "meat seafood        328480\n",
       "beverages           197900\n",
       "international       107972\n",
       "dry goods pasta      72111\n",
       "personal care        27558\n",
       "bakery               27166\n",
       "Name: count, dtype: int64"
      ]
     },
     "execution_count": 33,
     "metadata": {},
     "output_type": "execute_result"
    }
   ],
   "source": [
    "df_comp['department'].value_counts(dropna=False)"
   ]
  },
  {
   "cell_type": "code",
   "execution_count": 229,
   "id": "8c0a2724-2da0-4416-9cfe-21b9e1a17471",
   "metadata": {},
   "outputs": [
    {
     "data": {
      "text/plain": [
       "loyalty_flag\n",
       "Regular customer    15876776\n",
       "Loyal customer      10284093\n",
       "New customer         6243990\n",
       "Name: count, dtype: int64"
      ]
     },
     "execution_count": 229,
     "metadata": {},
     "output_type": "execute_result"
    }
   ],
   "source": [
    "# for the visualisation on excel creating royalty flag for all customers\n",
    "df_complete['loyalty_flag'].value_counts()"
   ]
  },
  {
   "cell_type": "code",
   "execution_count": 231,
   "id": "fef23159-f897-48e7-b6bb-659ed13c0637",
   "metadata": {},
   "outputs": [
    {
     "data": {
      "text/plain": [
       "loyalty_flag\n",
       "Regular customer    12712846\n",
       "Loyal customer       9537205\n",
       "New customer         2107259\n",
       "Name: count, dtype: int64"
      ]
     },
     "execution_count": 231,
     "metadata": {},
     "output_type": "execute_result"
    }
   ],
   "source": [
    "# for the visualisation on excel creating royalty flag for mid to high activity customers \n",
    "# excluding customers who have less than 5 orders\n",
    "df_comp['loyalty_flag'].value_counts()"
   ]
  },
  {
   "cell_type": "markdown",
   "id": "bc0c2769-04d4-4133-a96e-a9b35e83d362",
   "metadata": {},
   "source": [
    "### Creating behavior flag for order hour"
   ]
  },
  {
   "cell_type": "code",
   "execution_count": 225,
   "id": "ff887f9b-5187-48cb-9d10-312dbb987846",
   "metadata": {},
   "outputs": [],
   "source": [
    "# setting the 'regular' flag\n",
    "\n",
    "df_comp['shopping_behavior'] = 'regular'"
   ]
  },
  {
   "cell_type": "code",
   "execution_count": 41,
   "id": "a2229495-9f25-4e3c-9c37-ffa2ea099f32",
   "metadata": {},
   "outputs": [],
   "source": [
    "# setting the 'early_bird' flag for customers who orders between 5am- 8am\n",
    "df_comp.loc[df_comp['order_hour_of_day'].between(5, 8), 'shopping_behavior'] = 'early_bird'"
   ]
  },
  {
   "cell_type": "code",
   "execution_count": 40,
   "id": "c1c58147-968c-46e9-bbd2-e88fea23a33c",
   "metadata": {},
   "outputs": [],
   "source": [
    "# setting the 'night_owl' flag  for customers who orders between 22pm- 5am\n",
    "df_comp.loc[(df_comp['order_hour_of_day'] >= 22) | (df_comp['order_hour_of_day'] < 5), 'shopping_behavior'] = 'night_owl'"
   ]
  },
  {
   "cell_type": "code",
   "execution_count": 42,
   "id": "3cde3330-33ec-4741-a695-50b869313b71",
   "metadata": {},
   "outputs": [
    {
     "data": {
      "text/plain": [
       "shopping_behavior\n",
       "regular       20866739\n",
       "early_bird     2345395\n",
       "night_owl      1145176\n",
       "Name: count, dtype: int64"
      ]
     },
     "execution_count": 42,
     "metadata": {},
     "output_type": "execute_result"
    }
   ],
   "source": [
    "# checking frequency from 'shopping_behavior'\n",
    "df_comp['shopping_behavior'].value_counts(dropna = False)"
   ]
  },
  {
   "cell_type": "code",
   "execution_count": 43,
   "id": "7f72b454-d677-48f3-8426-7aaf58afa23b",
   "metadata": {},
   "outputs": [
    {
     "data": {
      "image/png": "[encoded data removed]",
      "text/plain": [
       "<Figure size 640x480 with 1 Axes>"
      ]
     },
     "metadata": {},
     "output_type": "display_data"
    }
   ],
   "source": [
    "# creating bar chart for shopping behavior\n",
    "bar_shopping_behavior = df_comp['shopping_behavior'].value_counts().plot.bar()"
   ]
  },
  {
   "cell_type": "code",
   "execution_count": 53,
   "id": "f51a238a-e9db-4f90-b927-bb11ad1c9255",
   "metadata": {},
   "outputs": [],
   "source": [
    "# creating min, max, and mean order numbers for each behavior\n",
    "expenditure_stats = df_comp.groupby('shopping_behavior')['order_number'].agg(['min', 'max', 'mean'])"
   ]
  },
  {
   "cell_type": "code",
   "execution_count": 54,
   "id": "4673e429-f3b5-4a24-872a-c65b764bb9fb",
   "metadata": {},
   "outputs": [],
   "source": [
    "# creating the expenditure for each order for each customer\n",
    "expenditure_total = df_comp.groupby(['shopping_behavior', 'user_id', 'order_number'])['prices'].sum().reset_index()"
   ]
  },
  {
   "cell_type": "code",
   "execution_count": 55,
   "id": "2017a3e2-c4fd-44da-838c-918e4ce8734e",
   "metadata": {},
   "outputs": [],
   "source": [
    "# creating the expenditure statistics for each customer \n",
    "expenditure_total = expenditure_total.groupby(['shopping_behavior', 'user_id'])['prices'].agg(['min', 'max', 'mean']).reset_index()"
   ]
  },
  {
   "cell_type": "code",
   "execution_count": 56,
   "id": "ad9cfea9-6754-4fbe-9ac5-b6487361fadb",
   "metadata": {},
   "outputs": [
    {
     "data": {
      "text/html": [
       "<div>\n",
       "<style scoped>\n",
       "    .dataframe tbody tr th:only-of-type {\n",
       "        vertical-align: middle;\n",
       "    }\n",
       "\n",
       "    .dataframe tbody tr th {\n",
       "        vertical-align: top;\n",
       "    }\n",
       "\n",
       "    .dataframe thead th {\n",
       "        text-align: right;\n",
       "    }\n",
       "</style>\n",
       "<table border=\"1\" class=\"dataframe\">\n",
       "  <thead>\n",
       "    <tr style=\"text-align: right;\">\n",
       "      <th></th>\n",
       "      <th>shopping_behavior</th>\n",
       "      <th>user_id</th>\n",
       "      <th>min</th>\n",
       "      <th>max</th>\n",
       "      <th>mean</th>\n",
       "    </tr>\n",
       "  </thead>\n",
       "  <tbody>\n",
       "    <tr>\n",
       "      <th>0</th>\n",
       "      <td>early_bird</td>\n",
       "      <td>1</td>\n",
       "      <td>25.0</td>\n",
       "      <td>63.1</td>\n",
       "      <td>44.050000</td>\n",
       "    </tr>\n",
       "    <tr>\n",
       "      <th>1</th>\n",
       "      <td>early_bird</td>\n",
       "      <td>7</td>\n",
       "      <td>74.7</td>\n",
       "      <td>74.7</td>\n",
       "      <td>74.700000</td>\n",
       "    </tr>\n",
       "    <tr>\n",
       "      <th>2</th>\n",
       "      <td>early_bird</td>\n",
       "      <td>13</td>\n",
       "      <td>83.8</td>\n",
       "      <td>83.8</td>\n",
       "      <td>83.800000</td>\n",
       "    </tr>\n",
       "    <tr>\n",
       "      <th>3</th>\n",
       "      <td>early_bird</td>\n",
       "      <td>14</td>\n",
       "      <td>100.2</td>\n",
       "      <td>237.5</td>\n",
       "      <td>155.520000</td>\n",
       "    </tr>\n",
       "    <tr>\n",
       "      <th>4</th>\n",
       "      <td>early_bird</td>\n",
       "      <td>15</td>\n",
       "      <td>10.1</td>\n",
       "      <td>10.1</td>\n",
       "      <td>10.100000</td>\n",
       "    </tr>\n",
       "    <tr>\n",
       "      <th>...</th>\n",
       "      <td>...</td>\n",
       "      <td>...</td>\n",
       "      <td>...</td>\n",
       "      <td>...</td>\n",
       "      <td>...</td>\n",
       "    </tr>\n",
       "    <tr>\n",
       "      <th>274436</th>\n",
       "      <td>regular</td>\n",
       "      <td>206203</td>\n",
       "      <td>126.6</td>\n",
       "      <td>126.6</td>\n",
       "      <td>126.600000</td>\n",
       "    </tr>\n",
       "    <tr>\n",
       "      <th>274437</th>\n",
       "      <td>regular</td>\n",
       "      <td>206206</td>\n",
       "      <td>9.6</td>\n",
       "      <td>157.3</td>\n",
       "      <td>32.957143</td>\n",
       "    </tr>\n",
       "    <tr>\n",
       "      <th>274438</th>\n",
       "      <td>regular</td>\n",
       "      <td>206207</td>\n",
       "      <td>47.5</td>\n",
       "      <td>196.9</td>\n",
       "      <td>110.966667</td>\n",
       "    </tr>\n",
       "    <tr>\n",
       "      <th>274439</th>\n",
       "      <td>regular</td>\n",
       "      <td>206208</td>\n",
       "      <td>46.0</td>\n",
       "      <td>238.5</td>\n",
       "      <td>119.027500</td>\n",
       "    </tr>\n",
       "    <tr>\n",
       "      <th>274440</th>\n",
       "      <td>regular</td>\n",
       "      <td>206209</td>\n",
       "      <td>11.1</td>\n",
       "      <td>131.5</td>\n",
       "      <td>59.577778</td>\n",
       "    </tr>\n",
       "  </tbody>\n",
       "</table>\n",
       "<p>274441 rows × 5 columns</p>\n",
       "</div>"
      ],
      "text/plain": [
       "       shopping_behavior  user_id    min    max        mean\n",
       "0             early_bird        1   25.0   63.1   44.050000\n",
       "1             early_bird        7   74.7   74.7   74.700000\n",
       "2             early_bird       13   83.8   83.8   83.800000\n",
       "3             early_bird       14  100.2  237.5  155.520000\n",
       "4             early_bird       15   10.1   10.1   10.100000\n",
       "...                  ...      ...    ...    ...         ...\n",
       "274436           regular   206203  126.6  126.6  126.600000\n",
       "274437           regular   206206    9.6  157.3   32.957143\n",
       "274438           regular   206207   47.5  196.9  110.966667\n",
       "274439           regular   206208   46.0  238.5  119.027500\n",
       "274440           regular   206209   11.1  131.5   59.577778\n",
       "\n",
       "[274441 rows x 5 columns]"
      ]
     },
     "execution_count": 56,
     "metadata": {},
     "output_type": "execute_result"
    }
   ],
   "source": [
    "expenditure_total"
   ]
  },
  {
   "cell_type": "code",
   "execution_count": 57,
   "id": "a1899cb8-6003-437d-8eb0-797a0b67d7cd",
   "metadata": {},
   "outputs": [],
   "source": [
    "# creating the expenditure statistics for each behavior flag\n",
    "expenditure_behavior = expenditure_total.groupby('shopping_behavior').agg({'min':'min', 'max':'max', 'mean':'mean'}).reset_index()"
   ]
  },
  {
   "cell_type": "code",
   "execution_count": 58,
   "id": "8d87d263-e683-4204-924f-634fd2724cde",
   "metadata": {},
   "outputs": [
    {
     "data": {
      "text/html": [
       "<div>\n",
       "<style scoped>\n",
       "    .dataframe tbody tr th:only-of-type {\n",
       "        vertical-align: middle;\n",
       "    }\n",
       "\n",
       "    .dataframe tbody tr th {\n",
       "        vertical-align: top;\n",
       "    }\n",
       "\n",
       "    .dataframe thead th {\n",
       "        text-align: right;\n",
       "    }\n",
       "</style>\n",
       "<table border=\"1\" class=\"dataframe\">\n",
       "  <thead>\n",
       "    <tr style=\"text-align: right;\">\n",
       "      <th></th>\n",
       "      <th>shopping_behavior</th>\n",
       "      <th>min</th>\n",
       "      <th>max</th>\n",
       "      <th>mean</th>\n",
       "    </tr>\n",
       "  </thead>\n",
       "  <tbody>\n",
       "    <tr>\n",
       "      <th>0</th>\n",
       "      <td>early_bird</td>\n",
       "      <td>1.0</td>\n",
       "      <td>721.0</td>\n",
       "      <td>79.510527</td>\n",
       "    </tr>\n",
       "    <tr>\n",
       "      <th>1</th>\n",
       "      <td>night_owl</td>\n",
       "      <td>1.0</td>\n",
       "      <td>875.0</td>\n",
       "      <td>83.126474</td>\n",
       "    </tr>\n",
       "    <tr>\n",
       "      <th>2</th>\n",
       "      <td>regular</td>\n",
       "      <td>1.0</td>\n",
       "      <td>1047.4</td>\n",
       "      <td>78.199256</td>\n",
       "    </tr>\n",
       "  </tbody>\n",
       "</table>\n",
       "</div>"
      ],
      "text/plain": [
       "  shopping_behavior  min     max       mean\n",
       "0        early_bird  1.0   721.0  79.510527\n",
       "1         night_owl  1.0   875.0  83.126474\n",
       "2           regular  1.0  1047.4  78.199256"
      ]
     },
     "execution_count": 58,
     "metadata": {},
     "output_type": "execute_result"
    }
   ],
   "source": [
    "expenditure_behavior"
   ]
  },
  {
   "cell_type": "code",
   "execution_count": 69,
   "id": "08e1a935-f3f9-417f-a1d3-24bdb5991628",
   "metadata": {},
   "outputs": [
    {
     "data": {
      "image/png": "[encoded data removed]",
      "text/plain": [
       "<Figure size 640x480 with 1 Axes>"
      ]
     },
     "metadata": {},
     "output_type": "display_data"
    }
   ],
   "source": [
    "# creating table with average order expense \n",
    "expenditure_behavior = sns.barplot(x = 'shopping_behavior', y = 'mean', data = behavior_price_stats,  color = '#7FB3D5')\n",
    "# adding titles \n",
    "plt.ylabel('Average Expenditure')\n",
    "plt.title('Behavioral Groups Average Expenditure')\n",
    "# exporting the chart\n",
    "plt.savefig(r'C:\\Users\\Gal-E\\CF Data Analysis\\Achievement 4\\03-2024 Instacart Basket Analysis\\04 Analysis\\Visualizations\\expenditure_behavior.png')"
   ]
  },
  {
   "cell_type": "code",
   "execution_count": 226,
   "id": "f5a99ee1-cdec-4c47-95d0-6c092cee1a5e",
   "metadata": {},
   "outputs": [],
   "source": [
    "# writing function called \"price_label\" that will apply a string label to every row within the dataframe\n",
    "# designating it as a low-, mid-, or high-range product based on its price\n",
    "def price_label(row):\n",
    "\n",
    "  if row['prices'] <= 5:\n",
    "    return 'Low-range Product'\n",
    "  elif (row['prices'] > 5) and (row['prices'] <= 15):\n",
    "    return 'Mid-range Product'\n",
    "  elif row['prices'] > 15:\n",
    "    return 'High range'\n",
    "  else: return 'Not enough data'"
   ]
  },
  {
   "cell_type": "code",
   "execution_count": 227,
   "id": "336d9f8f-2efe-49a6-8cbd-793b4348b1ce",
   "metadata": {},
   "outputs": [],
   "source": [
    "df_comp['price_range'] = df_comp.apply(price_label, axis=1)"
   ]
  },
  {
   "cell_type": "code",
   "execution_count": 228,
   "id": "8873aaa4-b5a4-41c5-999e-4d0fe53a0336",
   "metadata": {},
   "outputs": [
    {
     "data": {
      "text/plain": [
       "price_range\n",
       "Mid-range Product    16442155\n",
       "Low-range Product     7610179\n",
       "High range             304976\n",
       "Name: count, dtype: int64"
      ]
     },
     "execution_count": 228,
     "metadata": {},
     "output_type": "execute_result"
    }
   ],
   "source": [
    "df_comp['price_range'].value_counts()"
   ]
  },
  {
   "cell_type": "markdown",
   "id": "fd599d41-507e-4716-8ca0-4a96f2ebbc9a",
   "metadata": {},
   "source": [
    "### Order Hour"
   ]
  },
  {
   "cell_type": "code",
   "execution_count": 106,
   "id": "9ddf78be-7a3b-400b-8e1c-395e61905fda",
   "metadata": {},
   "outputs": [
    {
     "data": {
      "image/png": "[encoded data removed]",
      "text/plain": [
       "<Figure size 640x480 with 1 Axes>"
      ]
     },
     "metadata": {},
     "output_type": "display_data"
    }
   ],
   "source": [
    "#create a histogram of orders hour of day column\n",
    "hist_order_hour = df_complete['order_hour_of_day'].plot.hist(bins=24, edgecolor='white')\n",
    "# adding labels & title\n",
    "plt.xlabel('Hour of Day')\n",
    "plt.ylabel('Orders')\n",
    "plt.title('Orders by Hour of the Day')\n",
    "#save visual\n",
    "hist_order_hour.figure.savefig(os.path.join(path, '04 Analysis','Visualizations', 'hist_ohd.png'))"
   ]
  },
  {
   "cell_type": "code",
   "execution_count": null,
   "id": "5933a1f9-7847-4df0-85e8-ad2b9ee88ea1",
   "metadata": {},
   "outputs": [],
   "source": []
  },
  {
   "cell_type": "markdown",
   "id": "ed5b4698-e08b-460e-933d-cc8d42c307cf",
   "metadata": {},
   "source": [
    "### Order Day"
   ]
  },
  {
   "cell_type": "code",
   "execution_count": 95,
   "id": "2f68972f-b586-4fef-a4fd-50eb0bec105d",
   "metadata": {},
   "outputs": [
    {
     "data": {
      "image/png": "[encoded data removed]",
      "text/plain": [
       "<Figure size 640x480 with 1 Axes>"
      ]
     },
     "metadata": {},
     "output_type": "display_data"
    }
   ],
   "source": [
    "# defining colors for better visualisation\n",
    "colors = ['royalblue', 'cornflowerblue', 'cornflowerblue', 'lightsteelblue', 'lightsteelblue', 'lightsteelblue', 'lightsteelblue']\n",
    "# Creating a Bar Chart for 'orders_day_of_week'\n",
    "bar_DOW = df_complete['orders_day_of_week'].value_counts().plot.bar(color=colors)\n",
    "# adding labels & title\n",
    "plt.xlabel('Weekdays')\n",
    "plt.ylabel('Number of Orders')\n",
    "plt.title('Number of Orders by Weekdays')\n",
    "# save it to Projekt folder\n",
    "bar_DOW.figure.savefig(os.path.join(path, '04 Analysis', 'Visualizations', 'bar_orders_DOW.png'))"
   ]
  },
  {
   "cell_type": "markdown",
   "id": "377debdf-afa2-4499-86b2-b5a033642fdc",
   "metadata": {},
   "source": [
    "### 6. Create visualization to show the distribution of profiles."
   ]
  },
  {
   "cell_type": "code",
   "execution_count": 74,
   "id": "7dbd3669-c5fb-48f5-90e8-8c7d27200a1b",
   "metadata": {},
   "outputs": [],
   "source": [
    "# creating a crosstable with 'shopping_behavior' and 'department'\n",
    "beh_dep_cross = pd.crosstab(df_comp['department'], df_comp['shopping_behavior'], dropna = False)"
   ]
  },
  {
   "cell_type": "code",
   "execution_count": 75,
   "id": "b4073373-357c-4967-ac83-d0d3f9acb405",
   "metadata": {},
   "outputs": [
    {
     "data": {
      "text/html": [
       "<div>\n",
       "<style scoped>\n",
       "    .dataframe tbody tr th:only-of-type {\n",
       "        vertical-align: middle;\n",
       "    }\n",
       "\n",
       "    .dataframe tbody tr th {\n",
       "        vertical-align: top;\n",
       "    }\n",
       "\n",
       "    .dataframe thead th {\n",
       "        text-align: right;\n",
       "    }\n",
       "</style>\n",
       "<table border=\"1\" class=\"dataframe\">\n",
       "  <thead>\n",
       "    <tr style=\"text-align: right;\">\n",
       "      <th>shopping_behavior</th>\n",
       "      <th>early_bird</th>\n",
       "      <th>night_owl</th>\n",
       "      <th>regular</th>\n",
       "    </tr>\n",
       "    <tr>\n",
       "      <th>department</th>\n",
       "      <th></th>\n",
       "      <th></th>\n",
       "      <th></th>\n",
       "    </tr>\n",
       "  </thead>\n",
       "  <tbody>\n",
       "    <tr>\n",
       "      <th>alcohol</th>\n",
       "      <td>711136</td>\n",
       "      <td>363580</td>\n",
       "      <td>6152375</td>\n",
       "    </tr>\n",
       "    <tr>\n",
       "      <th>babies</th>\n",
       "      <td>52922</td>\n",
       "      <td>25268</td>\n",
       "      <td>461159</td>\n",
       "    </tr>\n",
       "    <tr>\n",
       "      <th>bakery</th>\n",
       "      <td>2442</td>\n",
       "      <td>1273</td>\n",
       "      <td>23451</td>\n",
       "    </tr>\n",
       "    <tr>\n",
       "      <th>beverages</th>\n",
       "      <td>17009</td>\n",
       "      <td>9884</td>\n",
       "      <td>171007</td>\n",
       "    </tr>\n",
       "    <tr>\n",
       "      <th>breakfast</th>\n",
       "      <td>126113</td>\n",
       "      <td>68704</td>\n",
       "      <td>1190558</td>\n",
       "    </tr>\n",
       "    <tr>\n",
       "      <th>bulk</th>\n",
       "      <td>58520</td>\n",
       "      <td>30326</td>\n",
       "      <td>544879</td>\n",
       "    </tr>\n",
       "    <tr>\n",
       "      <th>canned goods</th>\n",
       "      <td>55596</td>\n",
       "      <td>23684</td>\n",
       "      <td>445665</td>\n",
       "    </tr>\n",
       "    <tr>\n",
       "      <th>dairy eggs</th>\n",
       "      <td>71016</td>\n",
       "      <td>38075</td>\n",
       "      <td>678699</td>\n",
       "    </tr>\n",
       "    <tr>\n",
       "      <th>deli</th>\n",
       "      <td>199028</td>\n",
       "      <td>92871</td>\n",
       "      <td>1895222</td>\n",
       "    </tr>\n",
       "    <tr>\n",
       "      <th>dry goods pasta</th>\n",
       "      <td>6209</td>\n",
       "      <td>3173</td>\n",
       "      <td>62729</td>\n",
       "    </tr>\n",
       "    <tr>\n",
       "      <th>household</th>\n",
       "      <td>422845</td>\n",
       "      <td>188567</td>\n",
       "      <td>3509076</td>\n",
       "    </tr>\n",
       "    <tr>\n",
       "      <th>international</th>\n",
       "      <td>6108</td>\n",
       "      <td>2531</td>\n",
       "      <td>99333</td>\n",
       "    </tr>\n",
       "    <tr>\n",
       "      <th>meat seafood</th>\n",
       "      <td>31103</td>\n",
       "      <td>16114</td>\n",
       "      <td>281263</td>\n",
       "    </tr>\n",
       "    <tr>\n",
       "      <th>missing</th>\n",
       "      <td>71766</td>\n",
       "      <td>35895</td>\n",
       "      <td>675350</td>\n",
       "    </tr>\n",
       "    <tr>\n",
       "      <th>other</th>\n",
       "      <td>143778</td>\n",
       "      <td>78063</td>\n",
       "      <td>1405773</td>\n",
       "    </tr>\n",
       "    <tr>\n",
       "      <th>pantry</th>\n",
       "      <td>49825</td>\n",
       "      <td>24487</td>\n",
       "      <td>449578</td>\n",
       "    </tr>\n",
       "    <tr>\n",
       "      <th>personal care</th>\n",
       "      <td>2573</td>\n",
       "      <td>1370</td>\n",
       "      <td>23615</td>\n",
       "    </tr>\n",
       "    <tr>\n",
       "      <th>pets</th>\n",
       "      <td>188038</td>\n",
       "      <td>86321</td>\n",
       "      <td>1762088</td>\n",
       "    </tr>\n",
       "    <tr>\n",
       "      <th>produce</th>\n",
       "      <td>87735</td>\n",
       "      <td>38471</td>\n",
       "      <td>757124</td>\n",
       "    </tr>\n",
       "    <tr>\n",
       "      <th>snacks</th>\n",
       "      <td>41633</td>\n",
       "      <td>16519</td>\n",
       "      <td>277795</td>\n",
       "    </tr>\n",
       "  </tbody>\n",
       "</table>\n",
       "</div>"
      ],
      "text/plain": [
       "shopping_behavior  early_bird  night_owl  regular\n",
       "department                                       \n",
       "alcohol                711136     363580  6152375\n",
       "babies                  52922      25268   461159\n",
       "bakery                   2442       1273    23451\n",
       "beverages               17009       9884   171007\n",
       "breakfast              126113      68704  1190558\n",
       "bulk                    58520      30326   544879\n",
       "canned goods            55596      23684   445665\n",
       "dairy eggs              71016      38075   678699\n",
       "deli                   199028      92871  1895222\n",
       "dry goods pasta          6209       3173    62729\n",
       "household              422845     188567  3509076\n",
       "international            6108       2531    99333\n",
       "meat seafood            31103      16114   281263\n",
       "missing                 71766      35895   675350\n",
       "other                  143778      78063  1405773\n",
       "pantry                  49825      24487   449578\n",
       "personal care            2573       1370    23615\n",
       "pets                   188038      86321  1762088\n",
       "produce                 87735      38471   757124\n",
       "snacks                  41633      16519   277795"
      ]
     },
     "execution_count": 75,
     "metadata": {},
     "output_type": "execute_result"
    }
   ],
   "source": [
    "beh_dep_cross"
   ]
  },
  {
   "cell_type": "code",
   "execution_count": 108,
   "id": "9d7f9c7c-8df7-4a25-a694-7c92da6ac721",
   "metadata": {},
   "outputs": [],
   "source": [
    "# create table for clustered bar graph\n",
    "dep_behavior = beh_dep_cross.reset_index().melt(id_vars='department', var_name='shopping_behavior', value_name='count')"
   ]
  },
  {
   "cell_type": "code",
   "execution_count": 223,
   "id": "8e91c145-1347-48da-b4cc-bc227e4946e4",
   "metadata": {},
   "outputs": [
    {
     "data": {
      "image/png": "[encoded data removed]",
      "text/plain": [
       "<Figure size 640x480 with 1 Axes>"
      ]
     },
     "metadata": {},
     "output_type": "display_data"
    }
   ],
   "source": [
    "# create clustered bar graph for shopping behavior and department\n",
    "bar_dep_beh = sns.barplot(x='department', y='count', hue='shopping_behavior', data=dep_behavior, palette = ['lightsteelblue', 'cornflowerblue', 'royalblue'])\n",
    "# adding labels and title\n",
    "plt.xlabel('Department')\n",
    "plt.ylabel('Number of Orders')\n",
    "plt.title('Shopping behavior and Order count')\n",
    "# add legend title\n",
    "plt.legend(title='Shopping Behavior')\n",
    "plt.xticks(rotation=45, ha='right')\n",
    "# save figure\n",
    "bar_dep_beh.figure.savefig(os.path.join(path, '04 Analysis', 'Visualizations', 'bar_dep_beh2.png'))"
   ]
  },
  {
   "cell_type": "code",
   "execution_count": 224,
   "id": "6a0735e8-6f72-4770-8e81-816476298d9f",
   "metadata": {},
   "outputs": [
    {
     "data": {
      "image/png": "[encoded data removed]",
      "text/plain": [
       "<Figure size 640x480 with 1 Axes>"
      ]
     },
     "metadata": {},
     "output_type": "display_data"
    }
   ],
   "source": [
    "# create stacked line chart for number of orders per department per shopping behavior with color\n",
    "line_beh_dep = beh_dep_cross.plot(kind = 'line', stacked = True, color = ['lightsteelblue', 'cornflowerblue', 'royalblue'])\n",
    "\n",
    "# adding labels and title\n",
    "plt.xlabel('Department')\n",
    "plt.ylabel('Number of Orders')\n",
    "plt.title('Relationship between Department and Order Hour')\n",
    "# add legend title\n",
    "plt.legend(title='Shopping Behavior')\n",
    "plt.xticks(rotation=45, ha='right')\n",
    "# save figure\n",
    "line_beh_dep.figure.savefig(os.path.join(path, '04 Analysis', 'Visualizations', 'line_beh_dep.png'))"
   ]
  },
  {
   "cell_type": "code",
   "execution_count": 120,
   "id": "47132233-9e5a-4f05-b267-099de06d284e",
   "metadata": {},
   "outputs": [],
   "source": [
    "# creating a crosstable with 'region','shopping_behavior' and 'department'\n",
    "reg_dep_cross = pd.crosstab(index=[df_comp['department']], columns=[df_comp['region'], df_comp['shopping_behavior']], dropna = False)"
   ]
  },
  {
   "cell_type": "code",
   "execution_count": 117,
   "id": "08fce84d-eb3d-495f-9282-47d8dcbf2e0f",
   "metadata": {},
   "outputs": [
    {
     "data": {
      "text/html": [
       "<div>\n",
       "<style scoped>\n",
       "    .dataframe tbody tr th:only-of-type {\n",
       "        vertical-align: middle;\n",
       "    }\n",
       "\n",
       "    .dataframe tbody tr th {\n",
       "        vertical-align: top;\n",
       "    }\n",
       "\n",
       "    .dataframe thead tr th {\n",
       "        text-align: left;\n",
       "    }\n",
       "\n",
       "    .dataframe thead tr:last-of-type th {\n",
       "        text-align: right;\n",
       "    }\n",
       "</style>\n",
       "<table border=\"1\" class=\"dataframe\">\n",
       "  <thead>\n",
       "    <tr>\n",
       "      <th>region</th>\n",
       "      <th colspan=\"3\" halign=\"left\">Midwest_states</th>\n",
       "      <th colspan=\"3\" halign=\"left\">Northeast</th>\n",
       "      <th colspan=\"3\" halign=\"left\">South_states</th>\n",
       "      <th colspan=\"3\" halign=\"left\">West_states</th>\n",
       "    </tr>\n",
       "    <tr>\n",
       "      <th>shopping_behavior</th>\n",
       "      <th>early_bird</th>\n",
       "      <th>night_owl</th>\n",
       "      <th>regular</th>\n",
       "      <th>early_bird</th>\n",
       "      <th>night_owl</th>\n",
       "      <th>regular</th>\n",
       "      <th>early_bird</th>\n",
       "      <th>night_owl</th>\n",
       "      <th>regular</th>\n",
       "      <th>early_bird</th>\n",
       "      <th>night_owl</th>\n",
       "      <th>regular</th>\n",
       "    </tr>\n",
       "    <tr>\n",
       "      <th>department</th>\n",
       "      <th></th>\n",
       "      <th></th>\n",
       "      <th></th>\n",
       "      <th></th>\n",
       "      <th></th>\n",
       "      <th></th>\n",
       "      <th></th>\n",
       "      <th></th>\n",
       "      <th></th>\n",
       "      <th></th>\n",
       "      <th></th>\n",
       "      <th></th>\n",
       "    </tr>\n",
       "  </thead>\n",
       "  <tbody>\n",
       "    <tr>\n",
       "      <th>alcohol</th>\n",
       "      <td>165215</td>\n",
       "      <td>85659</td>\n",
       "      <td>1444977</td>\n",
       "      <td>125007</td>\n",
       "      <td>65801</td>\n",
       "      <td>1078552</td>\n",
       "      <td>240610</td>\n",
       "      <td>120904</td>\n",
       "      <td>2047707</td>\n",
       "      <td>180304</td>\n",
       "      <td>91216</td>\n",
       "      <td>1581139</td>\n",
       "    </tr>\n",
       "    <tr>\n",
       "      <th>babies</th>\n",
       "      <td>12342</td>\n",
       "      <td>6024</td>\n",
       "      <td>110098</td>\n",
       "      <td>9442</td>\n",
       "      <td>4370</td>\n",
       "      <td>82615</td>\n",
       "      <td>17375</td>\n",
       "      <td>8179</td>\n",
       "      <td>151417</td>\n",
       "      <td>13763</td>\n",
       "      <td>6695</td>\n",
       "      <td>117029</td>\n",
       "    </tr>\n",
       "    <tr>\n",
       "      <th>bakery</th>\n",
       "      <td>597</td>\n",
       "      <td>320</td>\n",
       "      <td>5367</td>\n",
       "      <td>428</td>\n",
       "      <td>215</td>\n",
       "      <td>4289</td>\n",
       "      <td>817</td>\n",
       "      <td>439</td>\n",
       "      <td>7944</td>\n",
       "      <td>600</td>\n",
       "      <td>299</td>\n",
       "      <td>5851</td>\n",
       "    </tr>\n",
       "    <tr>\n",
       "      <th>beverages</th>\n",
       "      <td>4005</td>\n",
       "      <td>2334</td>\n",
       "      <td>40268</td>\n",
       "      <td>2936</td>\n",
       "      <td>1646</td>\n",
       "      <td>29909</td>\n",
       "      <td>5713</td>\n",
       "      <td>3385</td>\n",
       "      <td>56319</td>\n",
       "      <td>4355</td>\n",
       "      <td>2519</td>\n",
       "      <td>44511</td>\n",
       "    </tr>\n",
       "    <tr>\n",
       "      <th>breakfast</th>\n",
       "      <td>29597</td>\n",
       "      <td>16133</td>\n",
       "      <td>280646</td>\n",
       "      <td>21763</td>\n",
       "      <td>12175</td>\n",
       "      <td>209790</td>\n",
       "      <td>42487</td>\n",
       "      <td>22808</td>\n",
       "      <td>393231</td>\n",
       "      <td>32266</td>\n",
       "      <td>17588</td>\n",
       "      <td>306891</td>\n",
       "    </tr>\n",
       "    <tr>\n",
       "      <th>bulk</th>\n",
       "      <td>13511</td>\n",
       "      <td>7240</td>\n",
       "      <td>127778</td>\n",
       "      <td>10158</td>\n",
       "      <td>5433</td>\n",
       "      <td>95117</td>\n",
       "      <td>19884</td>\n",
       "      <td>9918</td>\n",
       "      <td>180878</td>\n",
       "      <td>14967</td>\n",
       "      <td>7735</td>\n",
       "      <td>141106</td>\n",
       "    </tr>\n",
       "    <tr>\n",
       "      <th>canned goods</th>\n",
       "      <td>12827</td>\n",
       "      <td>5486</td>\n",
       "      <td>103448</td>\n",
       "      <td>10388</td>\n",
       "      <td>4212</td>\n",
       "      <td>78057</td>\n",
       "      <td>18056</td>\n",
       "      <td>7831</td>\n",
       "      <td>148534</td>\n",
       "      <td>14325</td>\n",
       "      <td>6155</td>\n",
       "      <td>115626</td>\n",
       "    </tr>\n",
       "    <tr>\n",
       "      <th>dairy eggs</th>\n",
       "      <td>16470</td>\n",
       "      <td>9000</td>\n",
       "      <td>158724</td>\n",
       "      <td>12353</td>\n",
       "      <td>6769</td>\n",
       "      <td>118828</td>\n",
       "      <td>24082</td>\n",
       "      <td>12693</td>\n",
       "      <td>226370</td>\n",
       "      <td>18111</td>\n",
       "      <td>9613</td>\n",
       "      <td>174777</td>\n",
       "    </tr>\n",
       "    <tr>\n",
       "      <th>deli</th>\n",
       "      <td>46551</td>\n",
       "      <td>21515</td>\n",
       "      <td>441082</td>\n",
       "      <td>35445</td>\n",
       "      <td>17018</td>\n",
       "      <td>337270</td>\n",
       "      <td>66387</td>\n",
       "      <td>30939</td>\n",
       "      <td>627641</td>\n",
       "      <td>50645</td>\n",
       "      <td>23399</td>\n",
       "      <td>489229</td>\n",
       "    </tr>\n",
       "    <tr>\n",
       "      <th>dry goods pasta</th>\n",
       "      <td>1298</td>\n",
       "      <td>824</td>\n",
       "      <td>14359</td>\n",
       "      <td>1396</td>\n",
       "      <td>644</td>\n",
       "      <td>12040</td>\n",
       "      <td>1933</td>\n",
       "      <td>839</td>\n",
       "      <td>20240</td>\n",
       "      <td>1582</td>\n",
       "      <td>866</td>\n",
       "      <td>16090</td>\n",
       "    </tr>\n",
       "    <tr>\n",
       "      <th>household</th>\n",
       "      <td>98278</td>\n",
       "      <td>44170</td>\n",
       "      <td>819852</td>\n",
       "      <td>76437</td>\n",
       "      <td>34218</td>\n",
       "      <td>619099</td>\n",
       "      <td>141380</td>\n",
       "      <td>62222</td>\n",
       "      <td>1168018</td>\n",
       "      <td>106750</td>\n",
       "      <td>47957</td>\n",
       "      <td>902107</td>\n",
       "    </tr>\n",
       "    <tr>\n",
       "      <th>international</th>\n",
       "      <td>1428</td>\n",
       "      <td>588</td>\n",
       "      <td>23551</td>\n",
       "      <td>1054</td>\n",
       "      <td>442</td>\n",
       "      <td>17038</td>\n",
       "      <td>2104</td>\n",
       "      <td>896</td>\n",
       "      <td>33253</td>\n",
       "      <td>1522</td>\n",
       "      <td>605</td>\n",
       "      <td>25491</td>\n",
       "    </tr>\n",
       "    <tr>\n",
       "      <th>meat seafood</th>\n",
       "      <td>7373</td>\n",
       "      <td>3747</td>\n",
       "      <td>66672</td>\n",
       "      <td>5417</td>\n",
       "      <td>2697</td>\n",
       "      <td>49747</td>\n",
       "      <td>10454</td>\n",
       "      <td>5599</td>\n",
       "      <td>94421</td>\n",
       "      <td>7859</td>\n",
       "      <td>4071</td>\n",
       "      <td>70423</td>\n",
       "    </tr>\n",
       "    <tr>\n",
       "      <th>missing</th>\n",
       "      <td>16682</td>\n",
       "      <td>8390</td>\n",
       "      <td>157663</td>\n",
       "      <td>12877</td>\n",
       "      <td>6663</td>\n",
       "      <td>120013</td>\n",
       "      <td>24079</td>\n",
       "      <td>11638</td>\n",
       "      <td>223927</td>\n",
       "      <td>18128</td>\n",
       "      <td>9204</td>\n",
       "      <td>173747</td>\n",
       "    </tr>\n",
       "    <tr>\n",
       "      <th>other</th>\n",
       "      <td>33400</td>\n",
       "      <td>18523</td>\n",
       "      <td>329171</td>\n",
       "      <td>24507</td>\n",
       "      <td>13887</td>\n",
       "      <td>244865</td>\n",
       "      <td>49342</td>\n",
       "      <td>26052</td>\n",
       "      <td>470415</td>\n",
       "      <td>36529</td>\n",
       "      <td>19601</td>\n",
       "      <td>361322</td>\n",
       "    </tr>\n",
       "    <tr>\n",
       "      <th>pantry</th>\n",
       "      <td>11367</td>\n",
       "      <td>5818</td>\n",
       "      <td>104952</td>\n",
       "      <td>8772</td>\n",
       "      <td>4417</td>\n",
       "      <td>79120</td>\n",
       "      <td>16844</td>\n",
       "      <td>8195</td>\n",
       "      <td>148894</td>\n",
       "      <td>12842</td>\n",
       "      <td>6057</td>\n",
       "      <td>116612</td>\n",
       "    </tr>\n",
       "    <tr>\n",
       "      <th>personal care</th>\n",
       "      <td>605</td>\n",
       "      <td>312</td>\n",
       "      <td>5571</td>\n",
       "      <td>476</td>\n",
       "      <td>232</td>\n",
       "      <td>3890</td>\n",
       "      <td>861</td>\n",
       "      <td>460</td>\n",
       "      <td>7863</td>\n",
       "      <td>631</td>\n",
       "      <td>366</td>\n",
       "      <td>6291</td>\n",
       "    </tr>\n",
       "    <tr>\n",
       "      <th>pets</th>\n",
       "      <td>43323</td>\n",
       "      <td>20072</td>\n",
       "      <td>408848</td>\n",
       "      <td>34284</td>\n",
       "      <td>16443</td>\n",
       "      <td>317141</td>\n",
       "      <td>63531</td>\n",
       "      <td>28568</td>\n",
       "      <td>588495</td>\n",
       "      <td>46900</td>\n",
       "      <td>21238</td>\n",
       "      <td>447604</td>\n",
       "    </tr>\n",
       "    <tr>\n",
       "      <th>produce</th>\n",
       "      <td>20458</td>\n",
       "      <td>9116</td>\n",
       "      <td>175800</td>\n",
       "      <td>15691</td>\n",
       "      <td>7060</td>\n",
       "      <td>134884</td>\n",
       "      <td>29508</td>\n",
       "      <td>12549</td>\n",
       "      <td>250715</td>\n",
       "      <td>22078</td>\n",
       "      <td>9746</td>\n",
       "      <td>195725</td>\n",
       "    </tr>\n",
       "    <tr>\n",
       "      <th>snacks</th>\n",
       "      <td>9387</td>\n",
       "      <td>4105</td>\n",
       "      <td>65004</td>\n",
       "      <td>7661</td>\n",
       "      <td>2994</td>\n",
       "      <td>48900</td>\n",
       "      <td>14431</td>\n",
       "      <td>5521</td>\n",
       "      <td>94018</td>\n",
       "      <td>10154</td>\n",
       "      <td>3899</td>\n",
       "      <td>69873</td>\n",
       "    </tr>\n",
       "  </tbody>\n",
       "</table>\n",
       "</div>"
      ],
      "text/plain": [
       "region            Midwest_states                     Northeast            \\\n",
       "shopping_behavior     early_bird night_owl  regular early_bird night_owl   \n",
       "department                                                                 \n",
       "alcohol                   165215     85659  1444977     125007     65801   \n",
       "babies                     12342      6024   110098       9442      4370   \n",
       "bakery                       597       320     5367        428       215   \n",
       "beverages                   4005      2334    40268       2936      1646   \n",
       "breakfast                  29597     16133   280646      21763     12175   \n",
       "bulk                       13511      7240   127778      10158      5433   \n",
       "canned goods               12827      5486   103448      10388      4212   \n",
       "dairy eggs                 16470      9000   158724      12353      6769   \n",
       "deli                       46551     21515   441082      35445     17018   \n",
       "dry goods pasta             1298       824    14359       1396       644   \n",
       "household                  98278     44170   819852      76437     34218   \n",
       "international               1428       588    23551       1054       442   \n",
       "meat seafood                7373      3747    66672       5417      2697   \n",
       "missing                    16682      8390   157663      12877      6663   \n",
       "other                      33400     18523   329171      24507     13887   \n",
       "pantry                     11367      5818   104952       8772      4417   \n",
       "personal care                605       312     5571        476       232   \n",
       "pets                       43323     20072   408848      34284     16443   \n",
       "produce                    20458      9116   175800      15691      7060   \n",
       "snacks                      9387      4105    65004       7661      2994   \n",
       "\n",
       "region                     South_states                    West_states  \\\n",
       "shopping_behavior  regular   early_bird night_owl  regular  early_bird   \n",
       "department                                                               \n",
       "alcohol            1078552       240610    120904  2047707      180304   \n",
       "babies               82615        17375      8179   151417       13763   \n",
       "bakery                4289          817       439     7944         600   \n",
       "beverages            29909         5713      3385    56319        4355   \n",
       "breakfast           209790        42487     22808   393231       32266   \n",
       "bulk                 95117        19884      9918   180878       14967   \n",
       "canned goods         78057        18056      7831   148534       14325   \n",
       "dairy eggs          118828        24082     12693   226370       18111   \n",
       "deli                337270        66387     30939   627641       50645   \n",
       "dry goods pasta      12040         1933       839    20240        1582   \n",
       "household           619099       141380     62222  1168018      106750   \n",
       "international        17038         2104       896    33253        1522   \n",
       "meat seafood         49747        10454      5599    94421        7859   \n",
       "missing             120013        24079     11638   223927       18128   \n",
       "other               244865        49342     26052   470415       36529   \n",
       "pantry               79120        16844      8195   148894       12842   \n",
       "personal care         3890          861       460     7863         631   \n",
       "pets                317141        63531     28568   588495       46900   \n",
       "produce             134884        29508     12549   250715       22078   \n",
       "snacks               48900        14431      5521    94018       10154   \n",
       "\n",
       "region                                \n",
       "shopping_behavior night_owl  regular  \n",
       "department                            \n",
       "alcohol               91216  1581139  \n",
       "babies                 6695   117029  \n",
       "bakery                  299     5851  \n",
       "beverages              2519    44511  \n",
       "breakfast             17588   306891  \n",
       "bulk                   7735   141106  \n",
       "canned goods           6155   115626  \n",
       "dairy eggs             9613   174777  \n",
       "deli                  23399   489229  \n",
       "dry goods pasta         866    16090  \n",
       "household             47957   902107  \n",
       "international           605    25491  \n",
       "meat seafood           4071    70423  \n",
       "missing                9204   173747  \n",
       "other                 19601   361322  \n",
       "pantry                 6057   116612  \n",
       "personal care           366     6291  \n",
       "pets                  21238   447604  \n",
       "produce                9746   195725  \n",
       "snacks                 3899    69873  "
      ]
     },
     "execution_count": 117,
     "metadata": {},
     "output_type": "execute_result"
    }
   ],
   "source": [
    "reg_dep_cross"
   ]
  },
  {
   "cell_type": "markdown",
   "id": "81b94be6-d14a-4a40-a41b-707b47af6d87",
   "metadata": {},
   "source": [
    "### Customer profiles with regions and departments."
   ]
  },
  {
   "cell_type": "code",
   "execution_count": 121,
   "id": "69256603-9312-4210-b036-7b63c26b47ca",
   "metadata": {},
   "outputs": [],
   "source": [
    "# creating a crosstable with shopping behavior and region\n",
    "reg_beh_cross = pd.crosstab(df_comp['region'], df_comp['shopping_behavior'])"
   ]
  },
  {
   "cell_type": "code",
   "execution_count": 122,
   "id": "92ec123e-7276-4a54-be7f-b6a15a1edeb7",
   "metadata": {},
   "outputs": [
    {
     "data": {
      "text/html": [
       "<div>\n",
       "<style scoped>\n",
       "    .dataframe tbody tr th:only-of-type {\n",
       "        vertical-align: middle;\n",
       "    }\n",
       "\n",
       "    .dataframe tbody tr th {\n",
       "        vertical-align: top;\n",
       "    }\n",
       "\n",
       "    .dataframe thead th {\n",
       "        text-align: right;\n",
       "    }\n",
       "</style>\n",
       "<table border=\"1\" class=\"dataframe\">\n",
       "  <thead>\n",
       "    <tr style=\"text-align: right;\">\n",
       "      <th>shopping_behavior</th>\n",
       "      <th>early_bird</th>\n",
       "      <th>night_owl</th>\n",
       "      <th>regular</th>\n",
       "    </tr>\n",
       "    <tr>\n",
       "      <th>region</th>\n",
       "      <th></th>\n",
       "      <th></th>\n",
       "      <th></th>\n",
       "    </tr>\n",
       "  </thead>\n",
       "  <tbody>\n",
       "    <tr>\n",
       "      <th>Midwest_states</th>\n",
       "      <td>544714</td>\n",
       "      <td>269376</td>\n",
       "      <td>4883831</td>\n",
       "    </tr>\n",
       "    <tr>\n",
       "      <th>Northeast</th>\n",
       "      <td>416492</td>\n",
       "      <td>207336</td>\n",
       "      <td>3681164</td>\n",
       "    </tr>\n",
       "    <tr>\n",
       "      <th>South_states</th>\n",
       "      <td>789878</td>\n",
       "      <td>379635</td>\n",
       "      <td>6940300</td>\n",
       "    </tr>\n",
       "    <tr>\n",
       "      <th>West_states</th>\n",
       "      <td>594311</td>\n",
       "      <td>288829</td>\n",
       "      <td>5361444</td>\n",
       "    </tr>\n",
       "  </tbody>\n",
       "</table>\n",
       "</div>"
      ],
      "text/plain": [
       "shopping_behavior  early_bird  night_owl  regular\n",
       "region                                           \n",
       "Midwest_states         544714     269376  4883831\n",
       "Northeast              416492     207336  3681164\n",
       "South_states           789878     379635  6940300\n",
       "West_states            594311     288829  5361444"
      ]
     },
     "execution_count": 122,
     "metadata": {},
     "output_type": "execute_result"
    }
   ],
   "source": [
    "reg_beh_cross"
   ]
  },
  {
   "cell_type": "code",
   "execution_count": 123,
   "id": "e0f01381-30a1-47e9-b5a6-406c0cc2a7fc",
   "metadata": {},
   "outputs": [],
   "source": [
    "# creating table for clustered bar graph\n",
    "reg_behavior = reg_beh_cross.reset_index().melt(id_vars='region', var_name='shopping_behavior', value_name='count')"
   ]
  },
  {
   "cell_type": "code",
   "execution_count": 198,
   "id": "6f6c470c-7e39-4747-a3ff-e7fa53bb471d",
   "metadata": {},
   "outputs": [
    {
     "data": {
      "image/png": "[encoded data removed]",
      "text/plain": [
       "<Figure size 640x480 with 1 Axes>"
      ]
     },
     "metadata": {},
     "output_type": "display_data"
    }
   ],
   "source": [
    "# creating clustered bar graph for region and shopping behavior\n",
    "bar_reg_beh = sns.barplot(x='region', y='count', hue='shopping_behavior', data=reg_behavior, palette = ['lightsteelblue', 'cornflowerblue', 'royalblue'])\n",
    "# adding labels & title\n",
    "plt.xlabel('Region')\n",
    "plt.ylabel('Order Count')\n",
    "plt.title('Order Number and Behavioral Groups by Region')\n",
    "plt.legend(title = 'Shopping Behavior')\n",
    "\n",
    "# save figure\n",
    "bar_reg_beh.figure.savefig(os.path.join(path, '04 Analysis', 'Visualizations', 'bar_reg_beh.png'))"
   ]
  },
  {
   "cell_type": "markdown",
   "id": "12d6917c-acb5-41f2-94b3-ce49d1651b34",
   "metadata": {},
   "source": [
    "### Determining customer base by age group"
   ]
  },
  {
   "cell_type": "code",
   "execution_count": 128,
   "id": "6f8e72bb-d3cf-4797-9243-b0df001d1b2f",
   "metadata": {},
   "outputs": [
    {
     "data": {
      "text/plain": [
       "age_group\n",
       "Middle_Adult    9514903\n",
       "Young_adults    8398887\n",
       "Old             6443520\n",
       "Name: count, dtype: int64"
      ]
     },
     "execution_count": 128,
     "metadata": {},
     "output_type": "execute_result"
    }
   ],
   "source": [
    "#Creating 'age_group' column ( '>39 Young_adults', '40-64 Middle_Adult', '65< Old')\n",
    "df_comp.loc[df_comp['age'] <= 39, 'age_group'] = 'Young_adults'\n",
    "df_comp.loc[(df_comp['age'] >= 40) & (df_comp['age'] <= 64), 'age_group'] = 'Middle_Adult'\n",
    "df_comp.loc[df_comp['age'] >= 65, 'age_group'] = 'Old'\n",
    "\n",
    "df_comp['age_group'].value_counts(dropna = False)"
   ]
  },
  {
   "cell_type": "code",
   "execution_count": 129,
   "id": "25d2d76d-21c0-46e6-8d0e-77b53f8fafd4",
   "metadata": {},
   "outputs": [
    {
     "data": {
      "text/plain": [
       "<Axes: xlabel='age_group'>"
      ]
     },
     "execution_count": 129,
     "metadata": {},
     "output_type": "execute_result"
    },
    {
     "data": {
      "image/png": "[encoded data removed]",
      "text/plain": [
       "<Figure size 640x480 with 1 Axes>"
      ]
     },
     "metadata": {},
     "output_type": "display_data"
    }
   ],
   "source": [
    "df_comp['age_group'].value_counts().plot.bar()"
   ]
  },
  {
   "cell_type": "markdown",
   "id": "d7039746-e5a8-4c49-86c1-e0ea0bc0ccd4",
   "metadata": {},
   "source": [
    "#### Middle_adults (person whos age are between 40-64) are the largest customer base "
   ]
  },
  {
   "cell_type": "markdown",
   "id": "97713d50-5ff4-41fc-a3b7-a2b177decbf7",
   "metadata": {},
   "source": [
    "### Creating customer flag for income and marital status"
   ]
  },
  {
   "cell_type": "code",
   "execution_count": 133,
   "id": "b32fa1da-2b1c-43ad-b2fd-7296dd183aeb",
   "metadata": {},
   "outputs": [
    {
     "data": {
      "text/plain": [
       "count    2.435731e+07\n",
       "mean     9.989662e+04\n",
       "std      4.334049e+04\n",
       "min      2.590300e+04\n",
       "25%      6.752200e+04\n",
       "50%      9.683700e+04\n",
       "75%      1.281600e+05\n",
       "max      5.939010e+05\n",
       "Name: income, dtype: float64"
      ]
     },
     "execution_count": 133,
     "metadata": {},
     "output_type": "execute_result"
    }
   ],
   "source": [
    "# analysis for customer incomes (exluded low activity customers)\n",
    "df_comp['income'].describe()"
   ]
  },
  {
   "cell_type": "markdown",
   "id": "8eda5247-07d1-4156-9185-13911e1fed61",
   "metadata": {
    "jp-MarkdownHeadingCollapsed": true
   },
   "source": [
    "#### income ranges singles 35K below low-, 35-80K middle- and 80K above upper- income"
   ]
  },
  {
   "cell_type": "markdown",
   "id": "18025b04-cf8c-4c0b-a6a1-70fa5b21842e",
   "metadata": {},
   "source": [
    "#### income ranges married 70K below low-, 70-140K middle- and 140K above upper- income"
   ]
  },
  {
   "cell_type": "code",
   "execution_count": 135,
   "id": "bc093dec-f06a-4486-bdaf-4747e37d228f",
   "metadata": {},
   "outputs": [
    {
     "data": {
      "text/plain": [
       "family_status\n",
       "married                             17098012\n",
       "single                               4006167\n",
       "divorced/widowed                     2084703\n",
       "living with parents and siblings     1168428\n",
       "Name: count, dtype: int64"
      ]
     },
     "execution_count": 135,
     "metadata": {},
     "output_type": "execute_result"
    }
   ],
   "source": [
    "df_comp['family_status'].value_counts()"
   ]
  },
  {
   "cell_type": "code",
   "execution_count": 232,
   "id": "1bed98ff-02e2-4437-be59-bdcce4d61765",
   "metadata": {},
   "outputs": [],
   "source": [
    "# setting the income flag for single, low-income\n",
    "# making the assumption that those living with parents and siblings are single\n",
    "df_comp.loc[(df_comp['family_status'].isin(['single', 'divorced/widowed', 'living with parents and siblings'])) & (df_comp['income'] <= 35000), 'income_range'] = 'single, low'"
   ]
  },
  {
   "cell_type": "code",
   "execution_count": 233,
   "id": "0be27e3e-0349-449d-b32a-7fd801127044",
   "metadata": {},
   "outputs": [],
   "source": [
    "# setting the income flag for single, middle-income\n",
    "df_comp.loc[(df_comp['family_status'].isin(['single', 'divorced/widowed', 'living with parents and siblings'])) & (df_comp['income'] > 35000) & (df_comp['income'] < 80000), 'income_range'] = 'single, middle'"
   ]
  },
  {
   "cell_type": "code",
   "execution_count": 234,
   "id": "5a507e71-a53e-492a-b876-ad77227c7791",
   "metadata": {},
   "outputs": [],
   "source": [
    "# setting the income flag for single, high-income\n",
    "df_comp.loc[(df_comp['family_status'].isin(['single', 'divorced/widowed', 'living with parents and siblings'])) & (df_comp['income'] >= 80000), 'income_range'] = 'single, high'"
   ]
  },
  {
   "cell_type": "code",
   "execution_count": 235,
   "id": "b0702520-e48b-4931-8a1b-611a5a598a04",
   "metadata": {},
   "outputs": [],
   "source": [
    "# setting the income flag for married, low-income\n",
    "df_comp.loc[(df_comp['family_status']=='married') & (df_comp['income'] <= 70000), 'income_range'] = 'married, low'"
   ]
  },
  {
   "cell_type": "code",
   "execution_count": 236,
   "id": "f462a7a4-e89e-4c2b-a85b-1a78852d22a5",
   "metadata": {},
   "outputs": [],
   "source": [
    "# setting the income flag for married, middle-income\n",
    "df_comp.loc[(df_comp['family_status']=='married') & (df_comp['income'] > 70000) & (df_comp['income'] < 140000), 'income_range'] = 'married, middle'"
   ]
  },
  {
   "cell_type": "code",
   "execution_count": 237,
   "id": "1192ce81-bd1a-48d1-b0c1-be87fd18319d",
   "metadata": {},
   "outputs": [],
   "source": [
    "# setting the income flag for married, high-income\n",
    "df_comp.loc[(df_comp['family_status']=='married') & (df_comp['income'] >= 140000), 'income_range'] = 'married, high'"
   ]
  },
  {
   "cell_type": "code",
   "execution_count": 238,
   "id": "b6efa390-7e30-4674-aa35-d5f166e2f031",
   "metadata": {},
   "outputs": [
    {
     "data": {
      "text/plain": [
       "income_range\n",
       "married, middle    9385096\n",
       "married, low       4411207\n",
       "single, high       4321926\n",
       "married, high      3301709\n",
       "single, middle     2719091\n",
       "single, low         218281\n",
       "Name: count, dtype: int64"
      ]
     },
     "execution_count": 238,
     "metadata": {},
     "output_type": "execute_result"
    }
   ],
   "source": [
    "df_comp['income_range'].value_counts()"
   ]
  },
  {
   "cell_type": "code",
   "execution_count": 250,
   "id": "8f739d80-b075-400c-905e-8f44958b0642",
   "metadata": {},
   "outputs": [
    {
     "data": {
      "image/png": "[encoded data removed]",
      "text/plain": [
       "<Figure size 640x480 with 1 Axes>"
      ]
     },
     "metadata": {},
     "output_type": "display_data"
    }
   ],
   "source": [
    "# creating graph for 'income_range' and 'order_count'\n",
    "bar_inc_range = df_comp['income_range'].value_counts().sort_index().plot.bar(color = ['lightsteelblue', 'cornflowerblue', 'royalblue', 'red', 'darksalmon', 'tomato'])\n",
    "# adding labels & title\n",
    "plt.xlabel('status')\n",
    "plt.ylabel('Order Counts')\n",
    "plt.title('Order Counts and Income Range')\n",
    "\n",
    "# adjusting label position\n",
    "plt.xticks(rotation=45, ha='right')\n",
    "\n",
    "# save figure\n",
    "bar_inc_range.figure.savefig(os.path.join(path, '04 Analysis', 'Visualizations', 'bar_inc_range.png'))"
   ]
  },
  {
   "cell_type": "code",
   "execution_count": 240,
   "id": "5d6bb5dc-e8e3-47ba-b761-83627a679f20",
   "metadata": {},
   "outputs": [],
   "source": [
    "# total expenditure for each customer for each order\n",
    "incomerange_order_total = df_comp.groupby(['income_range', 'user_id', 'order_number'])['prices'].sum().reset_index()"
   ]
  },
  {
   "cell_type": "code",
   "execution_count": 241,
   "id": "78f2294d-7f85-412b-9604-88b68a0629b2",
   "metadata": {},
   "outputs": [
    {
     "data": {
      "text/html": [
       "<div>\n",
       "<style scoped>\n",
       "    .dataframe tbody tr th:only-of-type {\n",
       "        vertical-align: middle;\n",
       "    }\n",
       "\n",
       "    .dataframe tbody tr th {\n",
       "        vertical-align: top;\n",
       "    }\n",
       "\n",
       "    .dataframe thead th {\n",
       "        text-align: right;\n",
       "    }\n",
       "</style>\n",
       "<table border=\"1\" class=\"dataframe\">\n",
       "  <thead>\n",
       "    <tr style=\"text-align: right;\">\n",
       "      <th></th>\n",
       "      <th>income_range</th>\n",
       "      <th>user_id</th>\n",
       "      <th>order_number</th>\n",
       "      <th>prices</th>\n",
       "    </tr>\n",
       "  </thead>\n",
       "  <tbody>\n",
       "    <tr>\n",
       "      <th>0</th>\n",
       "      <td>married, high</td>\n",
       "      <td>17</td>\n",
       "      <td>5</td>\n",
       "      <td>28.6</td>\n",
       "    </tr>\n",
       "    <tr>\n",
       "      <th>1</th>\n",
       "      <td>married, high</td>\n",
       "      <td>17</td>\n",
       "      <td>6</td>\n",
       "      <td>54.6</td>\n",
       "    </tr>\n",
       "    <tr>\n",
       "      <th>2</th>\n",
       "      <td>married, high</td>\n",
       "      <td>17</td>\n",
       "      <td>7</td>\n",
       "      <td>58.9</td>\n",
       "    </tr>\n",
       "    <tr>\n",
       "      <th>3</th>\n",
       "      <td>married, high</td>\n",
       "      <td>17</td>\n",
       "      <td>8</td>\n",
       "      <td>73.3</td>\n",
       "    </tr>\n",
       "    <tr>\n",
       "      <th>4</th>\n",
       "      <td>married, high</td>\n",
       "      <td>17</td>\n",
       "      <td>9</td>\n",
       "      <td>30.0</td>\n",
       "    </tr>\n",
       "    <tr>\n",
       "      <th>...</th>\n",
       "      <td>...</td>\n",
       "      <td>...</td>\n",
       "      <td>...</td>\n",
       "      <td>...</td>\n",
       "    </tr>\n",
       "    <tr>\n",
       "      <th>2413722</th>\n",
       "      <td>single, middle</td>\n",
       "      <td>206193</td>\n",
       "      <td>37</td>\n",
       "      <td>124.6</td>\n",
       "    </tr>\n",
       "    <tr>\n",
       "      <th>2413723</th>\n",
       "      <td>single, middle</td>\n",
       "      <td>206193</td>\n",
       "      <td>38</td>\n",
       "      <td>153.3</td>\n",
       "    </tr>\n",
       "    <tr>\n",
       "      <th>2413724</th>\n",
       "      <td>single, middle</td>\n",
       "      <td>206193</td>\n",
       "      <td>39</td>\n",
       "      <td>55.1</td>\n",
       "    </tr>\n",
       "    <tr>\n",
       "      <th>2413725</th>\n",
       "      <td>single, middle</td>\n",
       "      <td>206193</td>\n",
       "      <td>40</td>\n",
       "      <td>120.0</td>\n",
       "    </tr>\n",
       "    <tr>\n",
       "      <th>2413726</th>\n",
       "      <td>single, middle</td>\n",
       "      <td>206193</td>\n",
       "      <td>41</td>\n",
       "      <td>156.0</td>\n",
       "    </tr>\n",
       "  </tbody>\n",
       "</table>\n",
       "<p>2413727 rows × 4 columns</p>\n",
       "</div>"
      ],
      "text/plain": [
       "           income_range  user_id  order_number  prices\n",
       "0         married, high       17             5    28.6\n",
       "1         married, high       17             6    54.6\n",
       "2         married, high       17             7    58.9\n",
       "3         married, high       17             8    73.3\n",
       "4         married, high       17             9    30.0\n",
       "...                 ...      ...           ...     ...\n",
       "2413722  single, middle   206193            37   124.6\n",
       "2413723  single, middle   206193            38   153.3\n",
       "2413724  single, middle   206193            39    55.1\n",
       "2413725  single, middle   206193            40   120.0\n",
       "2413726  single, middle   206193            41   156.0\n",
       "\n",
       "[2413727 rows x 4 columns]"
      ]
     },
     "execution_count": 241,
     "metadata": {},
     "output_type": "execute_result"
    }
   ],
   "source": [
    "incomerange_order_total"
   ]
  },
  {
   "cell_type": "code",
   "execution_count": 242,
   "id": "374f0d70-e062-4a49-8a44-b965eb3d78b0",
   "metadata": {},
   "outputs": [],
   "source": [
    "# expenditure statistics for each customer \n",
    "incomerange_customer_total = incomerange_order_total.groupby(['income_range', 'user_id'])['prices'].agg(['min', 'max', 'mean']).reset_index()"
   ]
  },
  {
   "cell_type": "code",
   "execution_count": 243,
   "id": "dc37a72d-2932-45c6-93b2-2a7af79eefdd",
   "metadata": {},
   "outputs": [
    {
     "data": {
      "text/html": [
       "<div>\n",
       "<style scoped>\n",
       "    .dataframe tbody tr th:only-of-type {\n",
       "        vertical-align: middle;\n",
       "    }\n",
       "\n",
       "    .dataframe tbody tr th {\n",
       "        vertical-align: top;\n",
       "    }\n",
       "\n",
       "    .dataframe thead th {\n",
       "        text-align: right;\n",
       "    }\n",
       "</style>\n",
       "<table border=\"1\" class=\"dataframe\">\n",
       "  <thead>\n",
       "    <tr style=\"text-align: right;\">\n",
       "      <th></th>\n",
       "      <th>income_range</th>\n",
       "      <th>user_id</th>\n",
       "      <th>min</th>\n",
       "      <th>max</th>\n",
       "      <th>mean</th>\n",
       "    </tr>\n",
       "  </thead>\n",
       "  <tbody>\n",
       "    <tr>\n",
       "      <th>0</th>\n",
       "      <td>married, high</td>\n",
       "      <td>17</td>\n",
       "      <td>3.4</td>\n",
       "      <td>101.5</td>\n",
       "      <td>53.066667</td>\n",
       "    </tr>\n",
       "    <tr>\n",
       "      <th>1</th>\n",
       "      <td>married, high</td>\n",
       "      <td>19</td>\n",
       "      <td>51.4</td>\n",
       "      <td>364.0</td>\n",
       "      <td>191.900000</td>\n",
       "    </tr>\n",
       "    <tr>\n",
       "      <th>2</th>\n",
       "      <td>married, high</td>\n",
       "      <td>22</td>\n",
       "      <td>4.7</td>\n",
       "      <td>100.8</td>\n",
       "      <td>35.845455</td>\n",
       "    </tr>\n",
       "    <tr>\n",
       "      <th>3</th>\n",
       "      <td>married, high</td>\n",
       "      <td>36</td>\n",
       "      <td>2.1</td>\n",
       "      <td>74.9</td>\n",
       "      <td>27.651515</td>\n",
       "    </tr>\n",
       "    <tr>\n",
       "      <th>4</th>\n",
       "      <td>married, high</td>\n",
       "      <td>41</td>\n",
       "      <td>112.8</td>\n",
       "      <td>112.8</td>\n",
       "      <td>112.800000</td>\n",
       "    </tr>\n",
       "    <tr>\n",
       "      <th>...</th>\n",
       "      <td>...</td>\n",
       "      <td>...</td>\n",
       "      <td>...</td>\n",
       "      <td>...</td>\n",
       "      <td>...</td>\n",
       "    </tr>\n",
       "    <tr>\n",
       "      <th>162623</th>\n",
       "      <td>single, middle</td>\n",
       "      <td>206168</td>\n",
       "      <td>30.6</td>\n",
       "      <td>150.1</td>\n",
       "      <td>83.075000</td>\n",
       "    </tr>\n",
       "    <tr>\n",
       "      <th>162624</th>\n",
       "      <td>single, middle</td>\n",
       "      <td>206171</td>\n",
       "      <td>14.4</td>\n",
       "      <td>29.6</td>\n",
       "      <td>22.000000</td>\n",
       "    </tr>\n",
       "    <tr>\n",
       "      <th>162625</th>\n",
       "      <td>single, middle</td>\n",
       "      <td>206175</td>\n",
       "      <td>89.1</td>\n",
       "      <td>96.0</td>\n",
       "      <td>92.550000</td>\n",
       "    </tr>\n",
       "    <tr>\n",
       "      <th>162626</th>\n",
       "      <td>single, middle</td>\n",
       "      <td>206185</td>\n",
       "      <td>13.2</td>\n",
       "      <td>87.9</td>\n",
       "      <td>46.150000</td>\n",
       "    </tr>\n",
       "    <tr>\n",
       "      <th>162627</th>\n",
       "      <td>single, middle</td>\n",
       "      <td>206193</td>\n",
       "      <td>3.9</td>\n",
       "      <td>156.0</td>\n",
       "      <td>68.145946</td>\n",
       "    </tr>\n",
       "  </tbody>\n",
       "</table>\n",
       "<p>162628 rows × 5 columns</p>\n",
       "</div>"
      ],
      "text/plain": [
       "          income_range  user_id    min    max        mean\n",
       "0        married, high       17    3.4  101.5   53.066667\n",
       "1        married, high       19   51.4  364.0  191.900000\n",
       "2        married, high       22    4.7  100.8   35.845455\n",
       "3        married, high       36    2.1   74.9   27.651515\n",
       "4        married, high       41  112.8  112.8  112.800000\n",
       "...                ...      ...    ...    ...         ...\n",
       "162623  single, middle   206168   30.6  150.1   83.075000\n",
       "162624  single, middle   206171   14.4   29.6   22.000000\n",
       "162625  single, middle   206175   89.1   96.0   92.550000\n",
       "162626  single, middle   206185   13.2   87.9   46.150000\n",
       "162627  single, middle   206193    3.9  156.0   68.145946\n",
       "\n",
       "[162628 rows x 5 columns]"
      ]
     },
     "execution_count": 243,
     "metadata": {},
     "output_type": "execute_result"
    }
   ],
   "source": [
    "incomerange_customer_total"
   ]
  },
  {
   "cell_type": "code",
   "execution_count": 244,
   "id": "ef93eb91-a498-485d-a73f-bddb749379f0",
   "metadata": {},
   "outputs": [],
   "source": [
    "# find the expenditure statistics for each flag\n",
    "incomerange_price_stat = incomerange_customer_total.groupby('income_range').agg({'min': 'min', 'max': 'max', 'mean': 'mean'}).reset_index()"
   ]
  },
  {
   "cell_type": "code",
   "execution_count": 245,
   "id": "c0a88e42-8954-4ca6-8244-b9901e8954d4",
   "metadata": {},
   "outputs": [
    {
     "data": {
      "text/html": [
       "<div>\n",
       "<style scoped>\n",
       "    .dataframe tbody tr th:only-of-type {\n",
       "        vertical-align: middle;\n",
       "    }\n",
       "\n",
       "    .dataframe tbody tr th {\n",
       "        vertical-align: top;\n",
       "    }\n",
       "\n",
       "    .dataframe thead th {\n",
       "        text-align: right;\n",
       "    }\n",
       "</style>\n",
       "<table border=\"1\" class=\"dataframe\">\n",
       "  <thead>\n",
       "    <tr style=\"text-align: right;\">\n",
       "      <th></th>\n",
       "      <th>income_range</th>\n",
       "      <th>min</th>\n",
       "      <th>max</th>\n",
       "      <th>mean</th>\n",
       "    </tr>\n",
       "  </thead>\n",
       "  <tbody>\n",
       "    <tr>\n",
       "      <th>0</th>\n",
       "      <td>married, high</td>\n",
       "      <td>1.0</td>\n",
       "      <td>1047.4</td>\n",
       "      <td>85.085468</td>\n",
       "    </tr>\n",
       "    <tr>\n",
       "      <th>1</th>\n",
       "      <td>married, low</td>\n",
       "      <td>1.0</td>\n",
       "      <td>842.1</td>\n",
       "      <td>64.437582</td>\n",
       "    </tr>\n",
       "    <tr>\n",
       "      <th>2</th>\n",
       "      <td>married, middle</td>\n",
       "      <td>1.0</td>\n",
       "      <td>852.5</td>\n",
       "      <td>84.512243</td>\n",
       "    </tr>\n",
       "    <tr>\n",
       "      <th>3</th>\n",
       "      <td>single, high</td>\n",
       "      <td>1.0</td>\n",
       "      <td>690.6</td>\n",
       "      <td>84.177770</td>\n",
       "    </tr>\n",
       "    <tr>\n",
       "      <th>4</th>\n",
       "      <td>single, low</td>\n",
       "      <td>1.0</td>\n",
       "      <td>712.0</td>\n",
       "      <td>47.091484</td>\n",
       "    </tr>\n",
       "    <tr>\n",
       "      <th>5</th>\n",
       "      <td>single, middle</td>\n",
       "      <td>1.0</td>\n",
       "      <td>875.0</td>\n",
       "      <td>73.780240</td>\n",
       "    </tr>\n",
       "  </tbody>\n",
       "</table>\n",
       "</div>"
      ],
      "text/plain": [
       "      income_range  min     max       mean\n",
       "0    married, high  1.0  1047.4  85.085468\n",
       "1     married, low  1.0   842.1  64.437582\n",
       "2  married, middle  1.0   852.5  84.512243\n",
       "3     single, high  1.0   690.6  84.177770\n",
       "4      single, low  1.0   712.0  47.091484\n",
       "5   single, middle  1.0   875.0  73.780240"
      ]
     },
     "execution_count": 245,
     "metadata": {},
     "output_type": "execute_result"
    }
   ],
   "source": [
    "incomerange_price_stat"
   ]
  },
  {
   "cell_type": "code",
   "execution_count": 246,
   "id": "835d1040-7299-4355-8121-850bb77ac60d",
   "metadata": {},
   "outputs": [
    {
     "data": {
      "image/png": "[encoded data removed]",
      "text/plain": [
       "<Figure size 640x480 with 1 Axes>"
      ]
     },
     "metadata": {},
     "output_type": "display_data"
    }
   ],
   "source": [
    "# creating a graph for 'income_range' and expenditure\n",
    "bar_inc_exp = sns.barplot(x = 'income_range', y = 'mean', data = incomerange_price_stat, palette = ['lightsteelblue', 'cornflowerblue', 'royalblue', 'red', 'darksalmon', 'tomato'])\n",
    "# adding labels & Title\n",
    "plt.xlabel('Status')\n",
    "plt.ylabel('Average Expenditure')\n",
    "plt.title('Expenditure and Income Range')\n",
    "\n",
    "# adjusting label position\n",
    "plt.xticks(rotation=45, ha='right')\n",
    "\n",
    "# save figure\n",
    "bar_inc_exp.figure.savefig(os.path.join(path, '04 Analysis', 'Visualizations', 'bar_inc_exp.png'))"
   ]
  },
  {
   "cell_type": "code",
   "execution_count": 193,
   "id": "0144f064-0460-423e-8a3f-300e3af8346c",
   "metadata": {},
   "outputs": [],
   "source": [
    "# creating crosstable for 'income_range' and 'region'\n",
    "incrange_reg_cross = pd.crosstab(df_comp['region'], df_comp['income_range'], dropna = False)"
   ]
  },
  {
   "cell_type": "code",
   "execution_count": 194,
   "id": "ed6a7ab6-a3b9-4cbd-bdf7-bfbe495fad4b",
   "metadata": {},
   "outputs": [
    {
     "data": {
      "text/html": [
       "<div>\n",
       "<style scoped>\n",
       "    .dataframe tbody tr th:only-of-type {\n",
       "        vertical-align: middle;\n",
       "    }\n",
       "\n",
       "    .dataframe tbody tr th {\n",
       "        vertical-align: top;\n",
       "    }\n",
       "\n",
       "    .dataframe thead th {\n",
       "        text-align: right;\n",
       "    }\n",
       "</style>\n",
       "<table border=\"1\" class=\"dataframe\">\n",
       "  <thead>\n",
       "    <tr style=\"text-align: right;\">\n",
       "      <th>income_range</th>\n",
       "      <th>married, high-income</th>\n",
       "      <th>married, low-income</th>\n",
       "      <th>married, middle-income</th>\n",
       "      <th>single, high-income</th>\n",
       "      <th>single, low-income</th>\n",
       "      <th>single, middle-income</th>\n",
       "    </tr>\n",
       "    <tr>\n",
       "      <th>region</th>\n",
       "      <th></th>\n",
       "      <th></th>\n",
       "      <th></th>\n",
       "      <th></th>\n",
       "      <th></th>\n",
       "      <th></th>\n",
       "    </tr>\n",
       "  </thead>\n",
       "  <tbody>\n",
       "    <tr>\n",
       "      <th>Midwest_states</th>\n",
       "      <td>792073</td>\n",
       "      <td>1025779</td>\n",
       "      <td>2171245</td>\n",
       "      <td>1033040</td>\n",
       "      <td>50070</td>\n",
       "      <td>625714</td>\n",
       "    </tr>\n",
       "    <tr>\n",
       "      <th>Northeast</th>\n",
       "      <td>588355</td>\n",
       "      <td>766570</td>\n",
       "      <td>1683070</td>\n",
       "      <td>747840</td>\n",
       "      <td>37276</td>\n",
       "      <td>481881</td>\n",
       "    </tr>\n",
       "    <tr>\n",
       "      <th>South_states</th>\n",
       "      <td>1076963</td>\n",
       "      <td>1470138</td>\n",
       "      <td>3130848</td>\n",
       "      <td>1431539</td>\n",
       "      <td>68499</td>\n",
       "      <td>931826</td>\n",
       "    </tr>\n",
       "    <tr>\n",
       "      <th>West_states</th>\n",
       "      <td>844318</td>\n",
       "      <td>1148720</td>\n",
       "      <td>2399933</td>\n",
       "      <td>1109507</td>\n",
       "      <td>62436</td>\n",
       "      <td>679670</td>\n",
       "    </tr>\n",
       "  </tbody>\n",
       "</table>\n",
       "</div>"
      ],
      "text/plain": [
       "income_range    married, high-income  married, low-income  \\\n",
       "region                                                      \n",
       "Midwest_states                792073              1025779   \n",
       "Northeast                     588355               766570   \n",
       "South_states                 1076963              1470138   \n",
       "West_states                   844318              1148720   \n",
       "\n",
       "income_range    married, middle-income  single, high-income  \\\n",
       "region                                                        \n",
       "Midwest_states                 2171245              1033040   \n",
       "Northeast                      1683070               747840   \n",
       "South_states                   3130848              1431539   \n",
       "West_states                    2399933              1109507   \n",
       "\n",
       "income_range    single, low-income  single, middle-income  \n",
       "region                                                     \n",
       "Midwest_states               50070                 625714  \n",
       "Northeast                    37276                 481881  \n",
       "South_states                 68499                 931826  \n",
       "West_states                  62436                 679670  "
      ]
     },
     "execution_count": 194,
     "metadata": {},
     "output_type": "execute_result"
    }
   ],
   "source": [
    "incrange_reg_cross"
   ]
  },
  {
   "cell_type": "code",
   "execution_count": 195,
   "id": "7611a531-ba65-403a-b944-562cb2e4006c",
   "metadata": {},
   "outputs": [],
   "source": [
    "# creating table for clustered bar graph\n",
    "ingrange_reg_table = incrange_reg_cross.reset_index().melt(id_vars='region', var_name='income_range', value_name='count')"
   ]
  },
  {
   "cell_type": "code",
   "execution_count": 196,
   "id": "0f39d7e1-fafc-4a89-bafa-d61f4eaf9873",
   "metadata": {},
   "outputs": [
    {
     "data": {
      "image/png": "[encoded data removed]",
      "text/plain": [
       "<Figure size 640x480 with 1 Axes>"
      ]
     },
     "metadata": {},
     "output_type": "display_data"
    }
   ],
   "source": [
    "# create clustered bar graph for \"income_range' and 'region'\n",
    "bar_incrange_reg = sns.barplot(x='region', y='count', hue='income_range', data=ingrange_reg_table, palette = ['lightsteelblue', 'cornflowerblue', 'royalblue', 'red', 'darksalmon', 'tomato'])\n",
    "# adding tables & title\n",
    "plt.xlabel('Region')\n",
    "plt.ylabel('Order Count')\n",
    "plt.title('Order count by Income Range and Region')\n",
    "plt.legend(title = 'Income Range')\n",
    "\n",
    "# save figure\n",
    "bar_incrange_reg.figure.savefig(os.path.join(path, '04 Analysis', 'Visualizations', 'bar_incrange_reg.png'))"
   ]
  },
  {
   "cell_type": "markdown",
   "id": "4502ad39-9854-4104-adfd-639a17abf466",
   "metadata": {},
   "source": [
    "### Saving Crosstabs into Excel "
   ]
  },
  {
   "cell_type": "code",
   "execution_count": 200,
   "id": "c157d2d9-2628-4543-8f3d-8c53f0e8fb5d",
   "metadata": {},
   "outputs": [],
   "source": [
    "# copy crosstab data and paste into excel\n",
    "reg_dep_cross.to_clipboard()"
   ]
  },
  {
   "cell_type": "code",
   "execution_count": 202,
   "id": "98a9e7d5-4223-4bb0-a936-dcb2e23256b0",
   "metadata": {},
   "outputs": [],
   "source": [
    "beh_dep_cross.to_clipboard()"
   ]
  },
  {
   "cell_type": "code",
   "execution_count": 207,
   "id": "7ad27d07-5dc4-49a6-bce0-9bdd9088a16c",
   "metadata": {},
   "outputs": [],
   "source": [
    "incrange_reg_cross.to_clipboard()"
   ]
  },
  {
   "cell_type": "code",
   "execution_count": 213,
   "id": "34d93b01-91e8-429c-b2f1-c5756010ced3",
   "metadata": {},
   "outputs": [],
   "source": [
    "# Exporting 'mid_high_activity' into 'Prepared Data' folder as pickle file\n",
    "low_excluded.to_pickle(os.path.join(path, '02 Data','Prepared Data', 'low_excluded.pkl'))"
   ]
  },
  {
   "cell_type": "code",
   "execution_count": 214,
   "id": "4f8f912c-fdb3-4fa5-b31b-2a3c7d9b40ec",
   "metadata": {},
   "outputs": [],
   "source": [
    "# Exporting 'df_comp' merged from 'low_excluded' and 'df_dep'\n",
    "df_comp.to_pickle(os.path.join(path, '02 Data','Prepared Data', 'df_comp.pkl'))"
   ]
  },
  {
   "cell_type": "code",
   "execution_count": null,
   "id": "1d16d5e1-bcea-4b5f-9ce8-22c8a24fa234",
   "metadata": {},
   "outputs": [],
   "source": []
  }
 ],
 "metadata": {
  "kernelspec": {
   "display_name": "Python 3 (ipykernel)",
   "language": "python",
   "name": "python3"
  },
  "language_info": {
   "codemirror_mode": {
    "name": "ipython",
    "version": 3
   },
   "file_extension": ".py",
   "mimetype": "text/x-python",
   "name": "python",
   "nbconvert_exporter": "python",
   "pygments_lexer": "ipython3",
   "version": "3.11.7"
  }
 },
 "nbformat": 4,
 "nbformat_minor": 5
}
